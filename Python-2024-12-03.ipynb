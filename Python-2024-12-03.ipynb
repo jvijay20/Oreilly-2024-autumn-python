{
 "cells": [
  {
   "cell_type": "markdown",
   "id": "71c65a64-d6cd-4c94-800e-7b025cb6ad0a",
   "metadata": {},
   "source": [
    "# Agenda Day 5: Modules and packages\n",
    "\n",
    "1. Intro to modules -- what are they?\n",
    "2. The various forms of `import`\n",
    "3. Developing our own module and using it\n",
    "4. Python standard library\n",
    "5. Modules vs. packages\n",
    "6. PyPI and third-party packages\n",
    "7. Using `pip` to install PyPI packages\n",
    "8. What next?\n",
    "9. AMA (ask me anything!) "
   ]
  },
  {
   "cell_type": "markdown",
   "id": "f280f7bd-adee-4a68-a2ba-a3a897ab8f29",
   "metadata": {},
   "source": [
    "# DRY -- don't repeat yourself!\n",
    "\n",
    "1. If you have one or more lines of code that repeat themselves, then you should consider a loop.\n",
    "2. If you have the same code in several different places in your program, then you should consider writing a function.\n",
    "3. If you have the same code in *several different programs*, then you should consider a *library*.\n",
    "\n",
    "What is a library? It's a collection of functions and variables that someone else has written, which we can then use/reuse.\n",
    "\n",
    "If I can use a library, then I don't need to reinvent the wheel. Plus, they have probably spent time improving/debugging their library.\n",
    "\n",
    "In Python, we call our libraries *modules* and *packages*.\n",
    "\n",
    "- A module is a single file containing Python functions and data\n",
    "- A package is a directory/folder containing one or more modules\n",
    "\n",
    "A module in Python gives us not only the capabilities of a library in other languages, but it also gives us *namespaces*.\n",
    "\n",
    "A namespace is basically a last name for functions/variables, so that we (and Python) don't get confused between them and encounter \"namespace collisions.\"\n",
    "\n"
   ]
  },
  {
   "cell_type": "markdown",
   "id": "07610cc8-066a-408a-be3f-e1e906b04133",
   "metadata": {},
   "source": [
    "# How do we use a module?\n",
    "\n",
    "In Python, we use the `import` statement to use a module, and load it into memory.  The syntax for `import` is a bit strange: It's not a function, so we don't use `()`. It's not like in other languages, where we say what file we want to load. Rather, it looks like this:\n",
    "\n",
    "```python\n",
    "import modname\n",
    "```\n",
    "\n",
    "Notice how we run it:\n",
    "\n",
    "1. `import` doesn't have `()` after it\n",
    "2. The module we want to load isn't in `''`, because it's not a string or a filename. It's the name of the module we want to create.\n",
    "3. Python takes that module name, tacks on a `.py`, and then looks for a file -- in this case, `modname.py`.\n",
    "\n",
    "Once we load the module with `import`, we then have a module variable defined (`modname` in this case), and we can access its data and functions via `modname.NAME`, where `NAME` is anything we might want to access in the module.\n",
    "\n",
    "If the module `modname` has a function named `hello`, then after loading `modname`, we can run that function as `modname.hello()`. The `.` indicates that `hello` belongs to the module `modname`. That's the namespace!\n",
    "\n",
    "Module names are case senstive; they are traditionally all in lowercase."
   ]
  },
  {
   "cell_type": "code",
   "execution_count": 2,
   "id": "31cfba80-a53c-4e36-ac13-a01e3d9d0515",
   "metadata": {},
   "outputs": [],
   "source": [
    "# here, I'll import the \"random\" module, which comes with Python\n",
    "\n",
    "import random"
   ]
  },
  {
   "cell_type": "code",
   "execution_count": 3,
   "id": "4b11a46d-e79e-4157-9903-9eee2af6a252",
   "metadata": {},
   "outputs": [
    {
     "data": {
      "text/plain": [
       "<module 'random' from '/Users/reuven/.pyenv/versions/3.13.0/lib/python3.13/random.py'>"
      ]
     },
     "execution_count": 3,
     "metadata": {},
     "output_type": "execute_result"
    }
   ],
   "source": [
    "# what is this \"random\" variable that I just defined? It's a module!\n",
    "\n",
    "random"
   ]
  },
  {
   "cell_type": "code",
   "execution_count": 8,
   "id": "bafcc615-34d9-4b82-8a63-b95c0716f91f",
   "metadata": {},
   "outputs": [
    {
     "data": {
      "text/plain": [
       "33"
      ]
     },
     "execution_count": 8,
     "metadata": {},
     "output_type": "execute_result"
    }
   ],
   "source": [
    "# there is a function, random.randint, that returns a random integer between two extremes.\n",
    "# we can invoke \"randint\" that's defined inside of the \"random\" module\n",
    "\n",
    "random.randint(0, 100)"
   ]
  },
  {
   "cell_type": "code",
   "execution_count": 9,
   "id": "cf734d10-7d27-45d6-b155-2f106c8a969c",
   "metadata": {},
   "outputs": [
    {
     "ename": "ModuleNotFoundError",
     "evalue": "No module named 'randommmmmmm'",
     "output_type": "error",
     "traceback": [
      "\u001b[0;31m---------------------------------------------------------------------------\u001b[0m",
      "\u001b[0;31mModuleNotFoundError\u001b[0m                       Traceback (most recent call last)",
      "Cell \u001b[0;32mIn[9], line 3\u001b[0m\n\u001b[1;32m      1\u001b[0m \u001b[38;5;66;03m# if you try to load a module that doesn't exist (or if you spelled it wrong!), then you'll get an error\u001b[39;00m\n\u001b[0;32m----> 3\u001b[0m \u001b[38;5;28;01mimport\u001b[39;00m \u001b[38;5;21;01mrandommmmmmm\u001b[39;00m\n",
      "\u001b[0;31mModuleNotFoundError\u001b[0m: No module named 'randommmmmmm'"
     ]
    }
   ],
   "source": [
    "# if you try to load a module that doesn't exist (or if you spelled it wrong!), then you'll get an error\n",
    "\n",
    "import randommmmmmm"
   ]
  },
  {
   "cell_type": "code",
   "execution_count": 10,
   "id": "62645665-ce0f-4dfe-900a-b234f6fb5b91",
   "metadata": {},
   "outputs": [
    {
     "data": {
      "text/plain": [
       "['BPF',\n",
       " 'LOG4',\n",
       " 'NV_MAGICCONST',\n",
       " 'RECIP_BPF',\n",
       " 'Random',\n",
       " 'SG_MAGICCONST',\n",
       " 'SystemRandom',\n",
       " 'TWOPI',\n",
       " '_ONE',\n",
       " '_Sequence',\n",
       " '__all__',\n",
       " '__builtins__',\n",
       " '__cached__',\n",
       " '__doc__',\n",
       " '__file__',\n",
       " '__loader__',\n",
       " '__name__',\n",
       " '__package__',\n",
       " '__spec__',\n",
       " '_accumulate',\n",
       " '_acos',\n",
       " '_bisect',\n",
       " '_ceil',\n",
       " '_cos',\n",
       " '_e',\n",
       " '_exp',\n",
       " '_fabs',\n",
       " '_floor',\n",
       " '_index',\n",
       " '_inst',\n",
       " '_isfinite',\n",
       " '_lgamma',\n",
       " '_log',\n",
       " '_log2',\n",
       " '_os',\n",
       " '_parse_args',\n",
       " '_pi',\n",
       " '_random',\n",
       " '_repeat',\n",
       " '_sha512',\n",
       " '_sin',\n",
       " '_sqrt',\n",
       " '_test',\n",
       " '_test_generator',\n",
       " '_urandom',\n",
       " 'betavariate',\n",
       " 'binomialvariate',\n",
       " 'choice',\n",
       " 'choices',\n",
       " 'expovariate',\n",
       " 'gammavariate',\n",
       " 'gauss',\n",
       " 'getrandbits',\n",
       " 'getstate',\n",
       " 'lognormvariate',\n",
       " 'main',\n",
       " 'normalvariate',\n",
       " 'paretovariate',\n",
       " 'randbytes',\n",
       " 'randint',\n",
       " 'random',\n",
       " 'randrange',\n",
       " 'sample',\n",
       " 'seed',\n",
       " 'setstate',\n",
       " 'shuffle',\n",
       " 'triangular',\n",
       " 'uniform',\n",
       " 'vonmisesvariate',\n",
       " 'weibullvariate']"
      ]
     },
     "execution_count": 10,
     "metadata": {},
     "output_type": "execute_result"
    }
   ],
   "source": [
    "# how can I know what names are defined in a given module?\n",
    "# (1) Use the dir function on the module object\n",
    "\n",
    "dir(random)  # this will return a list of strings, names that we can use inside of random"
   ]
  },
  {
   "cell_type": "code",
   "execution_count": 11,
   "id": "158f4e9b-2b3e-4220-896a-ef9f6a10e947",
   "metadata": {},
   "outputs": [
    {
     "name": "stdout",
     "output_type": "stream",
     "text": [
      "Help on module random:\n",
      "\n",
      "NAME\n",
      "    random - Random variable generators.\n",
      "\n",
      "MODULE REFERENCE\n",
      "    https://docs.python.org/3.13/library/random.html\n",
      "\n",
      "    The following documentation is automatically generated from the Python\n",
      "    source files.  It may be incomplete, incorrect or include features that\n",
      "    are considered implementation detail and may vary between Python\n",
      "    implementations.  When in doubt, consult the module reference at the\n",
      "    location listed above.\n",
      "\n",
      "DESCRIPTION\n",
      "        bytes\n",
      "        -----\n",
      "               uniform bytes (values between 0 and 255)\n",
      "\n",
      "        integers\n",
      "        --------\n",
      "               uniform within range\n",
      "\n",
      "        sequences\n",
      "        ---------\n",
      "               pick random element\n",
      "               pick random sample\n",
      "               pick weighted random sample\n",
      "               generate random permutation\n",
      "\n",
      "        distributions on the real line:\n",
      "        ------------------------------\n",
      "               uniform\n",
      "               triangular\n",
      "               normal (Gaussian)\n",
      "               lognormal\n",
      "               negative exponential\n",
      "               gamma\n",
      "               beta\n",
      "               pareto\n",
      "               Weibull\n",
      "\n",
      "        distributions on the circle (angles 0 to 2pi)\n",
      "        ---------------------------------------------\n",
      "               circular uniform\n",
      "               von Mises\n",
      "\n",
      "        discrete distributions\n",
      "        ----------------------\n",
      "               binomial\n",
      "\n",
      "\n",
      "    General notes on the underlying Mersenne Twister core generator:\n",
      "\n",
      "    * The period is 2**19937-1.\n",
      "    * It is one of the most extensively tested generators in existence.\n",
      "    * The random() method is implemented in C, executes in a single Python step,\n",
      "      and is, therefore, threadsafe.\n",
      "\n",
      "CLASSES\n",
      "    _random.Random(builtins.object)\n",
      "        Random\n",
      "            SystemRandom\n",
      "\n",
      "    class Random(_random.Random)\n",
      "     |  Random(x=None)\n",
      "     |\n",
      "     |  Random number generator base class used by bound module functions.\n",
      "     |\n",
      "     |  Used to instantiate instances of Random to get generators that don't\n",
      "     |  share state.\n",
      "     |\n",
      "     |  Class Random can also be subclassed if you want to use a different basic\n",
      "     |  generator of your own devising: in that case, override the following\n",
      "     |  methods:  random(), seed(), getstate(), and setstate().\n",
      "     |  Optionally, implement a getrandbits() method so that randrange()\n",
      "     |  can cover arbitrarily large ranges.\n",
      "     |\n",
      "     |  Method resolution order:\n",
      "     |      Random\n",
      "     |      _random.Random\n",
      "     |      builtins.object\n",
      "     |\n",
      "     |  Methods defined here:\n",
      "     |\n",
      "     |  __getstate__(self)\n",
      "     |      Helper for pickle.\n",
      "     |\n",
      "     |  __init__(self, x=None)\n",
      "     |      Initialize an instance.\n",
      "     |\n",
      "     |      Optional argument x controls seeding, as for Random.seed().\n",
      "     |\n",
      "     |  __reduce__(self)\n",
      "     |      Helper for pickle.\n",
      "     |\n",
      "     |  __setstate__(self, state)\n",
      "     |\n",
      "     |  betavariate(self, alpha, beta)\n",
      "     |      Beta distribution.\n",
      "     |\n",
      "     |      Conditions on the parameters are alpha > 0 and beta > 0.\n",
      "     |      Returned values range between 0 and 1.\n",
      "     |\n",
      "     |      The mean (expected value) and variance of the random variable are:\n",
      "     |\n",
      "     |          E[X] = alpha / (alpha + beta)\n",
      "     |          Var[X] = alpha * beta / ((alpha + beta)**2 * (alpha + beta + 1))\n",
      "     |\n",
      "     |  binomialvariate(self, n=1, p=0.5)\n",
      "     |      Binomial random variable.\n",
      "     |\n",
      "     |      Gives the number of successes for *n* independent trials\n",
      "     |      with the probability of success in each trial being *p*:\n",
      "     |\n",
      "     |          sum(random() < p for i in range(n))\n",
      "     |\n",
      "     |      Returns an integer in the range:   0 <= X <= n\n",
      "     |\n",
      "     |      The mean (expected value) and variance of the random variable are:\n",
      "     |\n",
      "     |          E[X] = n * p\n",
      "     |          Var[x] = n * p * (1 - p)\n",
      "     |\n",
      "     |  choice(self, seq)\n",
      "     |      Choose a random element from a non-empty sequence.\n",
      "     |\n",
      "     |  choices(self, population, weights=None, *, cum_weights=None, k=1)\n",
      "     |      Return a k sized list of population elements chosen with replacement.\n",
      "     |\n",
      "     |      If the relative weights or cumulative weights are not specified,\n",
      "     |      the selections are made with equal probability.\n",
      "     |\n",
      "     |  expovariate(self, lambd=1.0)\n",
      "     |      Exponential distribution.\n",
      "     |\n",
      "     |      lambd is 1.0 divided by the desired mean.  It should be\n",
      "     |      nonzero.  (The parameter would be called \"lambda\", but that is\n",
      "     |      a reserved word in Python.)  Returned values range from 0 to\n",
      "     |      positive infinity if lambd is positive, and from negative\n",
      "     |      infinity to 0 if lambd is negative.\n",
      "     |\n",
      "     |      The mean (expected value) and variance of the random variable are:\n",
      "     |\n",
      "     |          E[X] = 1 / lambd\n",
      "     |          Var[X] = 1 / lambd ** 2\n",
      "     |\n",
      "     |  gammavariate(self, alpha, beta)\n",
      "     |      Gamma distribution.  Not the gamma function!\n",
      "     |\n",
      "     |      Conditions on the parameters are alpha > 0 and beta > 0.\n",
      "     |\n",
      "     |      The probability distribution function is:\n",
      "     |\n",
      "     |                  x ** (alpha - 1) * math.exp(-x / beta)\n",
      "     |        pdf(x) =  --------------------------------------\n",
      "     |                    math.gamma(alpha) * beta ** alpha\n",
      "     |\n",
      "     |      The mean (expected value) and variance of the random variable are:\n",
      "     |\n",
      "     |          E[X] = alpha * beta\n",
      "     |          Var[X] = alpha * beta ** 2\n",
      "     |\n",
      "     |  gauss(self, mu=0.0, sigma=1.0)\n",
      "     |      Gaussian distribution.\n",
      "     |\n",
      "     |      mu is the mean, and sigma is the standard deviation.  This is\n",
      "     |      slightly faster than the normalvariate() function.\n",
      "     |\n",
      "     |      Not thread-safe without a lock around calls.\n",
      "     |\n",
      "     |  getstate(self)\n",
      "     |      Return internal state; can be passed to setstate() later.\n",
      "     |\n",
      "     |  lognormvariate(self, mu, sigma)\n",
      "     |      Log normal distribution.\n",
      "     |\n",
      "     |      If you take the natural logarithm of this distribution, you'll get a\n",
      "     |      normal distribution with mean mu and standard deviation sigma.\n",
      "     |      mu can have any value, and sigma must be greater than zero.\n",
      "     |\n",
      "     |  normalvariate(self, mu=0.0, sigma=1.0)\n",
      "     |      Normal distribution.\n",
      "     |\n",
      "     |      mu is the mean, and sigma is the standard deviation.\n",
      "     |\n",
      "     |  paretovariate(self, alpha)\n",
      "     |      Pareto distribution.  alpha is the shape parameter.\n",
      "     |\n",
      "     |  randbytes(self, n)\n",
      "     |      Generate n random bytes.\n",
      "     |\n",
      "     |  randint(self, a, b)\n",
      "     |      Return random integer in range [a, b], including both end points.\n",
      "     |\n",
      "     |  randrange(self, start, stop=None, step=1)\n",
      "     |      Choose a random item from range(stop) or range(start, stop[, step]).\n",
      "     |\n",
      "     |      Roughly equivalent to ``choice(range(start, stop, step))`` but\n",
      "     |      supports arbitrarily large ranges and is optimized for common cases.\n",
      "     |\n",
      "     |  sample(self, population, k, *, counts=None)\n",
      "     |      Chooses k unique random elements from a population sequence.\n",
      "     |\n",
      "     |      Returns a new list containing elements from the population while\n",
      "     |      leaving the original population unchanged.  The resulting list is\n",
      "     |      in selection order so that all sub-slices will also be valid random\n",
      "     |      samples.  This allows raffle winners (the sample) to be partitioned\n",
      "     |      into grand prize and second place winners (the subslices).\n",
      "     |\n",
      "     |      Members of the population need not be hashable or unique.  If the\n",
      "     |      population contains repeats, then each occurrence is a possible\n",
      "     |      selection in the sample.\n",
      "     |\n",
      "     |      Repeated elements can be specified one at a time or with the optional\n",
      "     |      counts parameter.  For example:\n",
      "     |\n",
      "     |          sample(['red', 'blue'], counts=[4, 2], k=5)\n",
      "     |\n",
      "     |      is equivalent to:\n",
      "     |\n",
      "     |          sample(['red', 'red', 'red', 'red', 'blue', 'blue'], k=5)\n",
      "     |\n",
      "     |      To choose a sample from a range of integers, use range() for the\n",
      "     |      population argument.  This is especially fast and space efficient\n",
      "     |      for sampling from a large population:\n",
      "     |\n",
      "     |          sample(range(10000000), 60)\n",
      "     |\n",
      "     |  seed(self, a=None, version=2)\n",
      "     |      Initialize internal state from a seed.\n",
      "     |\n",
      "     |      The only supported seed types are None, int, float,\n",
      "     |      str, bytes, and bytearray.\n",
      "     |\n",
      "     |      None or no argument seeds from current time or from an operating\n",
      "     |      system specific randomness source if available.\n",
      "     |\n",
      "     |      If *a* is an int, all bits are used.\n",
      "     |\n",
      "     |      For version 2 (the default), all of the bits are used if *a* is a str,\n",
      "     |      bytes, or bytearray.  For version 1 (provided for reproducing random\n",
      "     |      sequences from older versions of Python), the algorithm for str and\n",
      "     |      bytes generates a narrower range of seeds.\n",
      "     |\n",
      "     |  setstate(self, state)\n",
      "     |      Restore internal state from object returned by getstate().\n",
      "     |\n",
      "     |  shuffle(self, x)\n",
      "     |      Shuffle list x in place, and return None.\n",
      "     |\n",
      "     |  triangular(self, low=0.0, high=1.0, mode=None)\n",
      "     |      Triangular distribution.\n",
      "     |\n",
      "     |      Continuous distribution bounded by given lower and upper limits,\n",
      "     |      and having a given mode value in-between.\n",
      "     |\n",
      "     |      http://en.wikipedia.org/wiki/Triangular_distribution\n",
      "     |\n",
      "     |      The mean (expected value) and variance of the random variable are:\n",
      "     |\n",
      "     |          E[X] = (low + high + mode) / 3\n",
      "     |          Var[X] = (low**2 + high**2 + mode**2 - low*high - low*mode - high*mode) / 18\n",
      "     |\n",
      "     |  uniform(self, a, b)\n",
      "     |      Get a random number in the range [a, b) or [a, b] depending on rounding.\n",
      "     |\n",
      "     |      The mean (expected value) and variance of the random variable are:\n",
      "     |\n",
      "     |          E[X] = (a + b) / 2\n",
      "     |          Var[X] = (b - a) ** 2 / 12\n",
      "     |\n",
      "     |  vonmisesvariate(self, mu, kappa)\n",
      "     |      Circular data distribution.\n",
      "     |\n",
      "     |      mu is the mean angle, expressed in radians between 0 and 2*pi, and\n",
      "     |      kappa is the concentration parameter, which must be greater than or\n",
      "     |      equal to zero.  If kappa is equal to zero, this distribution reduces\n",
      "     |      to a uniform random angle over the range 0 to 2*pi.\n",
      "     |\n",
      "     |  weibullvariate(self, alpha, beta)\n",
      "     |      Weibull distribution.\n",
      "     |\n",
      "     |      alpha is the scale parameter and beta is the shape parameter.\n",
      "     |\n",
      "     |  ----------------------------------------------------------------------\n",
      "     |  Class methods defined here:\n",
      "     |\n",
      "     |  __init_subclass__(**kwargs)\n",
      "     |      Control how subclasses generate random integers.\n",
      "     |\n",
      "     |      The algorithm a subclass can use depends on the random() and/or\n",
      "     |      getrandbits() implementation available to it and determines\n",
      "     |      whether it can generate random integers from arbitrarily large\n",
      "     |      ranges.\n",
      "     |\n",
      "     |  ----------------------------------------------------------------------\n",
      "     |  Data descriptors defined here:\n",
      "     |\n",
      "     |  __dict__\n",
      "     |      dictionary for instance variables\n",
      "     |\n",
      "     |  __weakref__\n",
      "     |      list of weak references to the object\n",
      "     |\n",
      "     |  ----------------------------------------------------------------------\n",
      "     |  Data and other attributes defined here:\n",
      "     |\n",
      "     |  VERSION = 3\n",
      "     |\n",
      "     |  ----------------------------------------------------------------------\n",
      "     |  Methods inherited from _random.Random:\n",
      "     |\n",
      "     |  getrandbits(self, k, /)\n",
      "     |      getrandbits(k) -> x.  Generates an int with k random bits.\n",
      "     |\n",
      "     |  random(self, /)\n",
      "     |      random() -> x in the interval [0, 1).\n",
      "     |\n",
      "     |  ----------------------------------------------------------------------\n",
      "     |  Static methods inherited from _random.Random:\n",
      "     |\n",
      "     |  __new__(*args, **kwargs) class method of _random.Random\n",
      "     |      Create and return a new object.  See help(type) for accurate signature.\n",
      "\n",
      "    class SystemRandom(Random)\n",
      "     |  SystemRandom(x=None)\n",
      "     |\n",
      "     |  Alternate random number generator using sources provided\n",
      "     |  by the operating system (such as /dev/urandom on Unix or\n",
      "     |  CryptGenRandom on Windows).\n",
      "     |\n",
      "     |   Not available on all systems (see os.urandom() for details).\n",
      "     |\n",
      "     |  Method resolution order:\n",
      "     |      SystemRandom\n",
      "     |      Random\n",
      "     |      _random.Random\n",
      "     |      builtins.object\n",
      "     |\n",
      "     |  Methods defined here:\n",
      "     |\n",
      "     |  getrandbits(self, k)\n",
      "     |      getrandbits(k) -> x.  Generates an int with k random bits.\n",
      "     |\n",
      "     |  getstate = _notimplemented(self, *args, **kwds)\n",
      "     |\n",
      "     |  randbytes(self, n)\n",
      "     |      Generate n random bytes.\n",
      "     |\n",
      "     |  random(self)\n",
      "     |      Get the next random number in the range 0.0 <= X < 1.0.\n",
      "     |\n",
      "     |  seed(self, *args, **kwds)\n",
      "     |      Stub method.  Not used for a system random number generator.\n",
      "     |\n",
      "     |  setstate = _notimplemented(self, *args, **kwds)\n",
      "     |\n",
      "     |  ----------------------------------------------------------------------\n",
      "     |  Methods inherited from Random:\n",
      "     |\n",
      "     |  __getstate__(self)\n",
      "     |      Helper for pickle.\n",
      "     |\n",
      "     |  __init__(self, x=None)\n",
      "     |      Initialize an instance.\n",
      "     |\n",
      "     |      Optional argument x controls seeding, as for Random.seed().\n",
      "     |\n",
      "     |  __reduce__(self)\n",
      "     |      Helper for pickle.\n",
      "     |\n",
      "     |  __setstate__(self, state)\n",
      "     |\n",
      "     |  betavariate(self, alpha, beta)\n",
      "     |      Beta distribution.\n",
      "     |\n",
      "     |      Conditions on the parameters are alpha > 0 and beta > 0.\n",
      "     |      Returned values range between 0 and 1.\n",
      "     |\n",
      "     |      The mean (expected value) and variance of the random variable are:\n",
      "     |\n",
      "     |          E[X] = alpha / (alpha + beta)\n",
      "     |          Var[X] = alpha * beta / ((alpha + beta)**2 * (alpha + beta + 1))\n",
      "     |\n",
      "     |  binomialvariate(self, n=1, p=0.5)\n",
      "     |      Binomial random variable.\n",
      "     |\n",
      "     |      Gives the number of successes for *n* independent trials\n",
      "     |      with the probability of success in each trial being *p*:\n",
      "     |\n",
      "     |          sum(random() < p for i in range(n))\n",
      "     |\n",
      "     |      Returns an integer in the range:   0 <= X <= n\n",
      "     |\n",
      "     |      The mean (expected value) and variance of the random variable are:\n",
      "     |\n",
      "     |          E[X] = n * p\n",
      "     |          Var[x] = n * p * (1 - p)\n",
      "     |\n",
      "     |  choice(self, seq)\n",
      "     |      Choose a random element from a non-empty sequence.\n",
      "     |\n",
      "     |  choices(self, population, weights=None, *, cum_weights=None, k=1)\n",
      "     |      Return a k sized list of population elements chosen with replacement.\n",
      "     |\n",
      "     |      If the relative weights or cumulative weights are not specified,\n",
      "     |      the selections are made with equal probability.\n",
      "     |\n",
      "     |  expovariate(self, lambd=1.0)\n",
      "     |      Exponential distribution.\n",
      "     |\n",
      "     |      lambd is 1.0 divided by the desired mean.  It should be\n",
      "     |      nonzero.  (The parameter would be called \"lambda\", but that is\n",
      "     |      a reserved word in Python.)  Returned values range from 0 to\n",
      "     |      positive infinity if lambd is positive, and from negative\n",
      "     |      infinity to 0 if lambd is negative.\n",
      "     |\n",
      "     |      The mean (expected value) and variance of the random variable are:\n",
      "     |\n",
      "     |          E[X] = 1 / lambd\n",
      "     |          Var[X] = 1 / lambd ** 2\n",
      "     |\n",
      "     |  gammavariate(self, alpha, beta)\n",
      "     |      Gamma distribution.  Not the gamma function!\n",
      "     |\n",
      "     |      Conditions on the parameters are alpha > 0 and beta > 0.\n",
      "     |\n",
      "     |      The probability distribution function is:\n",
      "     |\n",
      "     |                  x ** (alpha - 1) * math.exp(-x / beta)\n",
      "     |        pdf(x) =  --------------------------------------\n",
      "     |                    math.gamma(alpha) * beta ** alpha\n",
      "     |\n",
      "     |      The mean (expected value) and variance of the random variable are:\n",
      "     |\n",
      "     |          E[X] = alpha * beta\n",
      "     |          Var[X] = alpha * beta ** 2\n",
      "     |\n",
      "     |  gauss(self, mu=0.0, sigma=1.0)\n",
      "     |      Gaussian distribution.\n",
      "     |\n",
      "     |      mu is the mean, and sigma is the standard deviation.  This is\n",
      "     |      slightly faster than the normalvariate() function.\n",
      "     |\n",
      "     |      Not thread-safe without a lock around calls.\n",
      "     |\n",
      "     |  lognormvariate(self, mu, sigma)\n",
      "     |      Log normal distribution.\n",
      "     |\n",
      "     |      If you take the natural logarithm of this distribution, you'll get a\n",
      "     |      normal distribution with mean mu and standard deviation sigma.\n",
      "     |      mu can have any value, and sigma must be greater than zero.\n",
      "     |\n",
      "     |  normalvariate(self, mu=0.0, sigma=1.0)\n",
      "     |      Normal distribution.\n",
      "     |\n",
      "     |      mu is the mean, and sigma is the standard deviation.\n",
      "     |\n",
      "     |  paretovariate(self, alpha)\n",
      "     |      Pareto distribution.  alpha is the shape parameter.\n",
      "     |\n",
      "     |  randint(self, a, b)\n",
      "     |      Return random integer in range [a, b], including both end points.\n",
      "     |\n",
      "     |  randrange(self, start, stop=None, step=1)\n",
      "     |      Choose a random item from range(stop) or range(start, stop[, step]).\n",
      "     |\n",
      "     |      Roughly equivalent to ``choice(range(start, stop, step))`` but\n",
      "     |      supports arbitrarily large ranges and is optimized for common cases.\n",
      "     |\n",
      "     |  sample(self, population, k, *, counts=None)\n",
      "     |      Chooses k unique random elements from a population sequence.\n",
      "     |\n",
      "     |      Returns a new list containing elements from the population while\n",
      "     |      leaving the original population unchanged.  The resulting list is\n",
      "     |      in selection order so that all sub-slices will also be valid random\n",
      "     |      samples.  This allows raffle winners (the sample) to be partitioned\n",
      "     |      into grand prize and second place winners (the subslices).\n",
      "     |\n",
      "     |      Members of the population need not be hashable or unique.  If the\n",
      "     |      population contains repeats, then each occurrence is a possible\n",
      "     |      selection in the sample.\n",
      "     |\n",
      "     |      Repeated elements can be specified one at a time or with the optional\n",
      "     |      counts parameter.  For example:\n",
      "     |\n",
      "     |          sample(['red', 'blue'], counts=[4, 2], k=5)\n",
      "     |\n",
      "     |      is equivalent to:\n",
      "     |\n",
      "     |          sample(['red', 'red', 'red', 'red', 'blue', 'blue'], k=5)\n",
      "     |\n",
      "     |      To choose a sample from a range of integers, use range() for the\n",
      "     |      population argument.  This is especially fast and space efficient\n",
      "     |      for sampling from a large population:\n",
      "     |\n",
      "     |          sample(range(10000000), 60)\n",
      "     |\n",
      "     |  shuffle(self, x)\n",
      "     |      Shuffle list x in place, and return None.\n",
      "     |\n",
      "     |  triangular(self, low=0.0, high=1.0, mode=None)\n",
      "     |      Triangular distribution.\n",
      "     |\n",
      "     |      Continuous distribution bounded by given lower and upper limits,\n",
      "     |      and having a given mode value in-between.\n",
      "     |\n",
      "     |      http://en.wikipedia.org/wiki/Triangular_distribution\n",
      "     |\n",
      "     |      The mean (expected value) and variance of the random variable are:\n",
      "     |\n",
      "     |          E[X] = (low + high + mode) / 3\n",
      "     |          Var[X] = (low**2 + high**2 + mode**2 - low*high - low*mode - high*mode) / 18\n",
      "     |\n",
      "     |  uniform(self, a, b)\n",
      "     |      Get a random number in the range [a, b) or [a, b] depending on rounding.\n",
      "     |\n",
      "     |      The mean (expected value) and variance of the random variable are:\n",
      "     |\n",
      "     |          E[X] = (a + b) / 2\n",
      "     |          Var[X] = (b - a) ** 2 / 12\n",
      "     |\n",
      "     |  vonmisesvariate(self, mu, kappa)\n",
      "     |      Circular data distribution.\n",
      "     |\n",
      "     |      mu is the mean angle, expressed in radians between 0 and 2*pi, and\n",
      "     |      kappa is the concentration parameter, which must be greater than or\n",
      "     |      equal to zero.  If kappa is equal to zero, this distribution reduces\n",
      "     |      to a uniform random angle over the range 0 to 2*pi.\n",
      "     |\n",
      "     |  weibullvariate(self, alpha, beta)\n",
      "     |      Weibull distribution.\n",
      "     |\n",
      "     |      alpha is the scale parameter and beta is the shape parameter.\n",
      "     |\n",
      "     |  ----------------------------------------------------------------------\n",
      "     |  Class methods inherited from Random:\n",
      "     |\n",
      "     |  __init_subclass__(**kwargs)\n",
      "     |      Control how subclasses generate random integers.\n",
      "     |\n",
      "     |      The algorithm a subclass can use depends on the random() and/or\n",
      "     |      getrandbits() implementation available to it and determines\n",
      "     |      whether it can generate random integers from arbitrarily large\n",
      "     |      ranges.\n",
      "     |\n",
      "     |  ----------------------------------------------------------------------\n",
      "     |  Data descriptors inherited from Random:\n",
      "     |\n",
      "     |  __dict__\n",
      "     |      dictionary for instance variables\n",
      "     |\n",
      "     |  __weakref__\n",
      "     |      list of weak references to the object\n",
      "     |\n",
      "     |  ----------------------------------------------------------------------\n",
      "     |  Data and other attributes inherited from Random:\n",
      "     |\n",
      "     |  VERSION = 3\n",
      "     |\n",
      "     |  ----------------------------------------------------------------------\n",
      "     |  Static methods inherited from _random.Random:\n",
      "     |\n",
      "     |  __new__(*args, **kwargs) class method of _random.Random\n",
      "     |      Create and return a new object.  See help(type) for accurate signature.\n",
      "\n",
      "FUNCTIONS\n",
      "    betavariate(alpha, beta) method of Random instance\n",
      "        Beta distribution.\n",
      "\n",
      "        Conditions on the parameters are alpha > 0 and beta > 0.\n",
      "        Returned values range between 0 and 1.\n",
      "\n",
      "        The mean (expected value) and variance of the random variable are:\n",
      "\n",
      "            E[X] = alpha / (alpha + beta)\n",
      "            Var[X] = alpha * beta / ((alpha + beta)**2 * (alpha + beta + 1))\n",
      "\n",
      "    binomialvariate(n=1, p=0.5) method of Random instance\n",
      "        Binomial random variable.\n",
      "\n",
      "        Gives the number of successes for *n* independent trials\n",
      "        with the probability of success in each trial being *p*:\n",
      "\n",
      "            sum(random() < p for i in range(n))\n",
      "\n",
      "        Returns an integer in the range:   0 <= X <= n\n",
      "\n",
      "        The mean (expected value) and variance of the random variable are:\n",
      "\n",
      "            E[X] = n * p\n",
      "            Var[x] = n * p * (1 - p)\n",
      "\n",
      "    choice(seq) method of Random instance\n",
      "        Choose a random element from a non-empty sequence.\n",
      "\n",
      "    choices(population, weights=None, *, cum_weights=None, k=1) method of Random instance\n",
      "        Return a k sized list of population elements chosen with replacement.\n",
      "\n",
      "        If the relative weights or cumulative weights are not specified,\n",
      "        the selections are made with equal probability.\n",
      "\n",
      "    expovariate(lambd=1.0) method of Random instance\n",
      "        Exponential distribution.\n",
      "\n",
      "        lambd is 1.0 divided by the desired mean.  It should be\n",
      "        nonzero.  (The parameter would be called \"lambda\", but that is\n",
      "        a reserved word in Python.)  Returned values range from 0 to\n",
      "        positive infinity if lambd is positive, and from negative\n",
      "        infinity to 0 if lambd is negative.\n",
      "\n",
      "        The mean (expected value) and variance of the random variable are:\n",
      "\n",
      "            E[X] = 1 / lambd\n",
      "            Var[X] = 1 / lambd ** 2\n",
      "\n",
      "    gammavariate(alpha, beta) method of Random instance\n",
      "        Gamma distribution.  Not the gamma function!\n",
      "\n",
      "        Conditions on the parameters are alpha > 0 and beta > 0.\n",
      "\n",
      "        The probability distribution function is:\n",
      "\n",
      "                    x ** (alpha - 1) * math.exp(-x / beta)\n",
      "          pdf(x) =  --------------------------------------\n",
      "                      math.gamma(alpha) * beta ** alpha\n",
      "\n",
      "        The mean (expected value) and variance of the random variable are:\n",
      "\n",
      "            E[X] = alpha * beta\n",
      "            Var[X] = alpha * beta ** 2\n",
      "\n",
      "    gauss(mu=0.0, sigma=1.0) method of Random instance\n",
      "        Gaussian distribution.\n",
      "\n",
      "        mu is the mean, and sigma is the standard deviation.  This is\n",
      "        slightly faster than the normalvariate() function.\n",
      "\n",
      "        Not thread-safe without a lock around calls.\n",
      "\n",
      "    getrandbits(k, /) method of Random instance\n",
      "        getrandbits(k) -> x.  Generates an int with k random bits.\n",
      "\n",
      "    getstate() method of Random instance\n",
      "        Return internal state; can be passed to setstate() later.\n",
      "\n",
      "    lognormvariate(mu, sigma) method of Random instance\n",
      "        Log normal distribution.\n",
      "\n",
      "        If you take the natural logarithm of this distribution, you'll get a\n",
      "        normal distribution with mean mu and standard deviation sigma.\n",
      "        mu can have any value, and sigma must be greater than zero.\n",
      "\n",
      "    normalvariate(mu=0.0, sigma=1.0) method of Random instance\n",
      "        Normal distribution.\n",
      "\n",
      "        mu is the mean, and sigma is the standard deviation.\n",
      "\n",
      "    paretovariate(alpha) method of Random instance\n",
      "        Pareto distribution.  alpha is the shape parameter.\n",
      "\n",
      "    randbytes(n) method of Random instance\n",
      "        Generate n random bytes.\n",
      "\n",
      "    randint(a, b) method of Random instance\n",
      "        Return random integer in range [a, b], including both end points.\n",
      "\n",
      "    random() method of Random instance\n",
      "        random() -> x in the interval [0, 1).\n",
      "\n",
      "    randrange(start, stop=None, step=1) method of Random instance\n",
      "        Choose a random item from range(stop) or range(start, stop[, step]).\n",
      "\n",
      "        Roughly equivalent to ``choice(range(start, stop, step))`` but\n",
      "        supports arbitrarily large ranges and is optimized for common cases.\n",
      "\n",
      "    sample(population, k, *, counts=None) method of Random instance\n",
      "        Chooses k unique random elements from a population sequence.\n",
      "\n",
      "        Returns a new list containing elements from the population while\n",
      "        leaving the original population unchanged.  The resulting list is\n",
      "        in selection order so that all sub-slices will also be valid random\n",
      "        samples.  This allows raffle winners (the sample) to be partitioned\n",
      "        into grand prize and second place winners (the subslices).\n",
      "\n",
      "        Members of the population need not be hashable or unique.  If the\n",
      "        population contains repeats, then each occurrence is a possible\n",
      "        selection in the sample.\n",
      "\n",
      "        Repeated elements can be specified one at a time or with the optional\n",
      "        counts parameter.  For example:\n",
      "\n",
      "            sample(['red', 'blue'], counts=[4, 2], k=5)\n",
      "\n",
      "        is equivalent to:\n",
      "\n",
      "            sample(['red', 'red', 'red', 'red', 'blue', 'blue'], k=5)\n",
      "\n",
      "        To choose a sample from a range of integers, use range() for the\n",
      "        population argument.  This is especially fast and space efficient\n",
      "        for sampling from a large population:\n",
      "\n",
      "            sample(range(10000000), 60)\n",
      "\n",
      "    seed(a=None, version=2) method of Random instance\n",
      "        Initialize internal state from a seed.\n",
      "\n",
      "        The only supported seed types are None, int, float,\n",
      "        str, bytes, and bytearray.\n",
      "\n",
      "        None or no argument seeds from current time or from an operating\n",
      "        system specific randomness source if available.\n",
      "\n",
      "        If *a* is an int, all bits are used.\n",
      "\n",
      "        For version 2 (the default), all of the bits are used if *a* is a str,\n",
      "        bytes, or bytearray.  For version 1 (provided for reproducing random\n",
      "        sequences from older versions of Python), the algorithm for str and\n",
      "        bytes generates a narrower range of seeds.\n",
      "\n",
      "    setstate(state) method of Random instance\n",
      "        Restore internal state from object returned by getstate().\n",
      "\n",
      "    shuffle(x) method of Random instance\n",
      "        Shuffle list x in place, and return None.\n",
      "\n",
      "    triangular(low=0.0, high=1.0, mode=None) method of Random instance\n",
      "        Triangular distribution.\n",
      "\n",
      "        Continuous distribution bounded by given lower and upper limits,\n",
      "        and having a given mode value in-between.\n",
      "\n",
      "        http://en.wikipedia.org/wiki/Triangular_distribution\n",
      "\n",
      "        The mean (expected value) and variance of the random variable are:\n",
      "\n",
      "            E[X] = (low + high + mode) / 3\n",
      "            Var[X] = (low**2 + high**2 + mode**2 - low*high - low*mode - high*mode) / 18\n",
      "\n",
      "    uniform(a, b) method of Random instance\n",
      "        Get a random number in the range [a, b) or [a, b] depending on rounding.\n",
      "\n",
      "        The mean (expected value) and variance of the random variable are:\n",
      "\n",
      "            E[X] = (a + b) / 2\n",
      "            Var[X] = (b - a) ** 2 / 12\n",
      "\n",
      "    vonmisesvariate(mu, kappa) method of Random instance\n",
      "        Circular data distribution.\n",
      "\n",
      "        mu is the mean angle, expressed in radians between 0 and 2*pi, and\n",
      "        kappa is the concentration parameter, which must be greater than or\n",
      "        equal to zero.  If kappa is equal to zero, this distribution reduces\n",
      "        to a uniform random angle over the range 0 to 2*pi.\n",
      "\n",
      "    weibullvariate(alpha, beta) method of Random instance\n",
      "        Weibull distribution.\n",
      "\n",
      "        alpha is the scale parameter and beta is the shape parameter.\n",
      "\n",
      "DATA\n",
      "    __all__ = ['Random', 'SystemRandom', 'betavariate', 'binomialvariate',...\n",
      "\n",
      "FILE\n",
      "    /Users/reuven/.pyenv/versions/3.13.0/lib/python3.13/random.py\n",
      "\n",
      "\n"
     ]
    }
   ],
   "source": [
    "# (2) We can use \"help\" in Jupyter to get some documentation\n",
    "# In an IDE like PyCharm/VSCode, you can usually hover over a module's name and click to get full documentation\n",
    "\n",
    "help(random)\n"
   ]
  },
  {
   "cell_type": "code",
   "execution_count": 12,
   "id": "219e406a-9022-4789-ba89-8af630fe7d94",
   "metadata": {},
   "outputs": [],
   "source": [
    "# (3) Use the documentation on docs.python.org\n",
    "# that's the official Python documentation, and often includes even more examples\n",
    "\n",
    "# Look for random here: https://docs.python.org/3/library/random.html"
   ]
  },
  {
   "cell_type": "markdown",
   "id": "715c95db-661d-4ff6-9651-8eea44a4cc59",
   "metadata": {},
   "source": [
    "# Exercise: Guessing game\n",
    "\n",
    "1. Use `random.randint` to get a random number between 0 and 100.\n",
    "2. Repeatedly let the user guess:\n",
    "    - If they try a non-numeric guess, then scold them\n",
    "    - If they guess correctly, then congratulate them and stop\n",
    "    - If they're too low, say so\n",
    "    - If they're too high, say so\n",
    "3. When they get it, indicate how many guesses they needed.\n",
    "\n",
    "Example:\n",
    "\n",
    "    Guess: 50\n",
    "    Too low!\n",
    "    Guess: 75\n",
    "    Too high!\n",
    "    Guess: hello\n",
    "    hello is not numeric\n",
    "    Guess: 70\n",
    "    Too low!\n",
    "    Guess: 72\n",
    "    You got it in 5 guesses."
   ]
  },
  {
   "cell_type": "code",
   "execution_count": 15,
   "id": "02a42836-4d23-4bc6-951b-d4940e648484",
   "metadata": {},
   "outputs": [
    {
     "name": "stdin",
     "output_type": "stream",
     "text": [
      "Guess:  50\n"
     ]
    },
    {
     "name": "stdout",
     "output_type": "stream",
     "text": [
      "Too high!\n"
     ]
    },
    {
     "name": "stdin",
     "output_type": "stream",
     "text": [
      "Guess:  25\n"
     ]
    },
    {
     "name": "stdout",
     "output_type": "stream",
     "text": [
      "Too high!\n"
     ]
    },
    {
     "name": "stdin",
     "output_type": "stream",
     "text": [
      "Guess:  12\n"
     ]
    },
    {
     "name": "stdout",
     "output_type": "stream",
     "text": [
      "Too low!\n"
     ]
    },
    {
     "name": "stdin",
     "output_type": "stream",
     "text": [
      "Guess:  15\n"
     ]
    },
    {
     "name": "stdout",
     "output_type": "stream",
     "text": [
      "Too low!\n"
     ]
    },
    {
     "name": "stdin",
     "output_type": "stream",
     "text": [
      "Guess:  19\n"
     ]
    },
    {
     "name": "stdout",
     "output_type": "stream",
     "text": [
      "Too low!\n"
     ]
    },
    {
     "name": "stdin",
     "output_type": "stream",
     "text": [
      "Guess:  21\n"
     ]
    },
    {
     "name": "stdout",
     "output_type": "stream",
     "text": [
      "Too high!\n"
     ]
    },
    {
     "name": "stdin",
     "output_type": "stream",
     "text": [
      "Guess:  20\n"
     ]
    },
    {
     "name": "stdout",
     "output_type": "stream",
     "text": [
      "You got it, in 7 guesses!\n"
     ]
    }
   ],
   "source": [
    "import random\n",
    "\n",
    "number = random.randint(0, 100)\n",
    "guess_number = 0\n",
    "\n",
    "while True:\n",
    "    guess_number += 1\n",
    "    s = input('Guess: ').strip()\n",
    "\n",
    "    if not s.isdigit():\n",
    "        print(f'{s} is not numeric; try again')\n",
    "        continue\n",
    "\n",
    "    guess = int(s)    # get the guess as an integer\n",
    "\n",
    "    if guess == number:\n",
    "        print(f'You got it, in {guess_number} guesses!')\n",
    "        break\n",
    "    elif guess < number:\n",
    "        print('Too low!')\n",
    "    else:\n",
    "        print('Too high!')\n"
   ]
  },
  {
   "cell_type": "markdown",
   "id": "1951dd4e-6127-4e36-ba64-bcfaab01c4ca",
   "metadata": {},
   "source": [
    "# Where do the modules live?\n",
    "\n",
    "When we say `import random`, I've told you that Python looks for a file called `'random.py'`. Where does Python look? Where does that file live?\n",
    "\n",
    "We can get a bit of a hint from looking at the module's printed representation.\n",
    "\n",
    "Where did Python look for it, though?\n",
    "\n",
    "We can find out by looking at `sys.path` -- meaning, the module `sys` (which you need to `import`) and then the `path` variable inside of it, a list of strings. These strings are directories in which we'll look."
   ]
  },
  {
   "cell_type": "code",
   "execution_count": 16,
   "id": "109ff1fb-9b1a-4ddd-aedd-a24ea7ae575d",
   "metadata": {},
   "outputs": [
    {
     "data": {
      "text/plain": [
       "<module 'random' from '/Users/reuven/.pyenv/versions/3.13.0/lib/python3.13/random.py'>"
      ]
     },
     "execution_count": 16,
     "metadata": {},
     "output_type": "execute_result"
    }
   ],
   "source": [
    "random"
   ]
  },
  {
   "cell_type": "code",
   "execution_count": 17,
   "id": "b9b442a2-7235-4a2c-bcb7-9d334d233df3",
   "metadata": {},
   "outputs": [
    {
     "data": {
      "text/plain": [
       "['/Users/reuven/.pyenv/versions/3.13.0/lib/python313.zip',\n",
       " '/Users/reuven/.pyenv/versions/3.13.0/lib/python3.13',\n",
       " '/Users/reuven/.pyenv/versions/3.13.0/lib/python3.13/lib-dynload',\n",
       " '',\n",
       " '/Users/reuven/.pyenv/versions/3.13.0/lib/python3.13/site-packages']"
      ]
     },
     "execution_count": 17,
     "metadata": {},
     "output_type": "execute_result"
    }
   ],
   "source": [
    "import sys\n",
    "sys.path"
   ]
  },
  {
   "cell_type": "code",
   "execution_count": null,
   "id": "eae4a450-2ee5-445b-b63a-9784bd411177",
   "metadata": {},
   "outputs": [],
   "source": [
    "# JM\n",
    "\n",
    "import random\n",
    "\n",
    "num = random.randint(0, 100)\n",
    "\n",
    "while True:\n",
    "    guess = input(\"Guess the magic number, pick any number! \").strip()\n",
    "    if num == num:\n",
    "        print(\"You guessed correctly, Congratulations! \")\n",
    "    elif num == True and num < num:\n",
    "        print(\"Your number is too low, try again! \")\n",
    "    elif num == True and num > num:\n",
    "        print(\"Your number is too high, try again! \")\n",
    "    elif num != num:\n",
    "        print(\"That is not a number you crazy kook! You know what a number is don't you?\")"
   ]
  },
  {
   "cell_type": "markdown",
   "id": "05f13756-9045-450b-8d4d-cb4adc565012",
   "metadata": {},
   "source": [
    "What if you want to load modules from a directory that isn't in `sys.path`?\n",
    "\n",
    "You have to add it to `sys.path`. There are a few ways to do this, but setting the environment variable `PYTHONPATH` outside of Python is probably the best way."
   ]
  },
  {
   "cell_type": "code",
   "execution_count": 24,
   "id": "bfd4efbd-2059-4ced-a481-23a62cdb7cd8",
   "metadata": {},
   "outputs": [
    {
     "name": "stdout",
     "output_type": "stream",
     "text": [
      "paper vs. rock\n"
     ]
    }
   ],
   "source": [
    "# random also has the \"choice\" method, which chooses one element from a sequence\n",
    "\n",
    "items = ['rock', 'paper', 'scissors']\n",
    "\n",
    "person1 = random.choice(items)\n",
    "person2 = random.choice(items)\n",
    "\n",
    "print(f'{person1} vs. {person2}')"
   ]
  },
  {
   "cell_type": "code",
   "execution_count": 25,
   "id": "a110c6cc-48a1-4fd6-8c5a-b3c38ffeec9a",
   "metadata": {},
   "outputs": [],
   "source": [
    "import math"
   ]
  },
  {
   "cell_type": "code",
   "execution_count": 26,
   "id": "431f53e1-5d12-4596-a5e5-1657e5dba991",
   "metadata": {},
   "outputs": [
    {
     "data": {
      "text/plain": [
       "2.718281828459045"
      ]
     },
     "execution_count": 26,
     "metadata": {},
     "output_type": "execute_result"
    }
   ],
   "source": [
    "math.e"
   ]
  },
  {
   "cell_type": "code",
   "execution_count": 27,
   "id": "7bc313c6-d322-4803-ad8c-23aa0de9912e",
   "metadata": {},
   "outputs": [
    {
     "data": {
      "text/plain": [
       "3.141592653589793"
      ]
     },
     "execution_count": 27,
     "metadata": {},
     "output_type": "execute_result"
    }
   ],
   "source": [
    "math.pi"
   ]
  },
  {
   "cell_type": "code",
   "execution_count": 3,
   "id": "88789ce2-09f8-467b-990f-f0e2ca78607c",
   "metadata": {},
   "outputs": [
    {
     "name": "stdin",
     "output_type": "stream",
     "text": [
      "Enter text:  abc\n"
     ]
    },
    {
     "name": "stdout",
     "output_type": "stream",
     "text": [
      "a is LATIN SMALL LETTER A, category Ll\n",
      "b is LATIN SMALL LETTER B, category Ll\n",
      "c is LATIN SMALL LETTER C, category Ll\n"
     ]
    },
    {
     "name": "stdin",
     "output_type": "stream",
     "text": [
      "Enter text:  中国\n"
     ]
    },
    {
     "name": "stdout",
     "output_type": "stream",
     "text": [
      "中 is CJK UNIFIED IDEOGRAPH-4E2D, category Lo\n",
      "国 is CJK UNIFIED IDEOGRAPH-56FD, category Lo\n"
     ]
    },
    {
     "name": "stdin",
     "output_type": "stream",
     "text": [
      "Enter text:  \n"
     ]
    }
   ],
   "source": [
    "import unicodedata   # this lets us find out about characters in our strings -- not just English/Latin, but any\n",
    "\n",
    "while True:\n",
    "    s = input('Enter text: ').strip()\n",
    "\n",
    "    if s == '':\n",
    "        break\n",
    "\n",
    "    for one_character in s:\n",
    "        print(f'{one_character} is {unicodedata.name(one_character)}, category {unicodedata.category(one_character)}')"
   ]
  },
  {
   "cell_type": "markdown",
   "id": "0ba46feb-8332-496e-8bac-3540818eb0e3",
   "metadata": {},
   "source": [
    "# Next up\n",
    "\n",
    "1. Different forms of `import`\n",
    "2. Write our own module (that we can use)"
   ]
  },
  {
   "cell_type": "markdown",
   "id": "a080d7e9-ee47-4de8-8ecd-697af9f072d2",
   "metadata": {},
   "source": [
    "# What happens when we `import`?\n",
    "\n",
    "When we use `import`, we really do two (or 2.5) different things:\n",
    "\n",
    "- Python checks: Is the module already loaded?\n",
    "- If not, then it loads the module into memory from the file it finds in `sys.path`.\n",
    "- It defines a variable with the name we gave, referring to the module object it created when loading.\n",
    "\n",
    "If we have already loaded a module once, then only the variable assignment happens. If you want to `import` the same thing many times, that's fine; you'll just end up assigning to that variable many times."
   ]
  },
  {
   "cell_type": "code",
   "execution_count": 4,
   "id": "a899bdad-7335-4099-8bc4-6d4dc3993ee9",
   "metadata": {},
   "outputs": [
    {
     "data": {
      "text/plain": [
       "15471"
      ]
     },
     "execution_count": 4,
     "metadata": {},
     "output_type": "execute_result"
    }
   ],
   "source": [
    "import random\n",
    "\n",
    "# now that I've done that, I can use any variable/function defined in random\n",
    "\n",
    "random.randint(0, 100000)"
   ]
  },
  {
   "cell_type": "code",
   "execution_count": 5,
   "id": "9673e822-37cd-49a3-9881-0e240d994970",
   "metadata": {},
   "outputs": [
    {
     "data": {
      "text/plain": [
       "1"
      ]
     },
     "execution_count": 5,
     "metadata": {},
     "output_type": "execute_result"
    }
   ],
   "source": [
    "random.randint(0, 5)"
   ]
  },
  {
   "cell_type": "code",
   "execution_count": 6,
   "id": "3b42068b-771d-41b9-913b-c72d19a3d489",
   "metadata": {},
   "outputs": [
    {
     "ename": "NameError",
     "evalue": "name 'randint' is not defined",
     "output_type": "error",
     "traceback": [
      "\u001b[0;31m---------------------------------------------------------------------------\u001b[0m",
      "\u001b[0;31mNameError\u001b[0m                                 Traceback (most recent call last)",
      "Cell \u001b[0;32mIn[6], line 3\u001b[0m\n\u001b[1;32m      1\u001b[0m \u001b[38;5;66;03m# what if I get tired of typing \"random.\" before randint?\u001b[39;00m\n\u001b[0;32m----> 3\u001b[0m \u001b[43mrandint\u001b[49m(\u001b[38;5;241m0\u001b[39m, \u001b[38;5;241m5\u001b[39m)   \u001b[38;5;66;03m# will this work?\u001b[39;00m\n",
      "\u001b[0;31mNameError\u001b[0m: name 'randint' is not defined"
     ]
    }
   ],
   "source": [
    "# what if I get tired of typing \"random.\" before randint?\n",
    "\n",
    "randint(0, 5)   # will this work?"
   ]
  },
  {
   "cell_type": "code",
   "execution_count": 7,
   "id": "90ace75a-cde4-4468-8908-370913f0ee7d",
   "metadata": {},
   "outputs": [
    {
     "data": {
      "text/plain": [
       "0"
      ]
     },
     "execution_count": 7,
     "metadata": {},
     "output_type": "execute_result"
    }
   ],
   "source": [
    "# we can ask the import system to define randint as a variable, and thus not have to go through random\n",
    "\n",
    "from random import randint\n",
    "randint(0, 5)"
   ]
  },
  {
   "cell_type": "markdown",
   "id": "5c45d305-ca7e-4fb0-aa14-73db0d203846",
   "metadata": {},
   "source": [
    "# What does `from .. import` do?\n",
    "\n",
    "- Python checks: Is the module already loaded?\n",
    "- If not, then it loads the module into memory from the file it finds in `sys.path`.\n",
    "- It defines the variable we want (and only that variable), referring to the value in the module.\n",
    "\n",
    "If you use `from .. import`, then the module name will **NOT** be defined as a variable.\n",
    "\n",
    "Also note: When you use `from .. import`, it still loads the entire module into memory. This is *not* a good way to try to save memory, by only loading parts of a module.\n",
    "\n",
    "Using `from .. import` is *ONLY* about making it easier/shorter to refer to names inside of the module."
   ]
  },
  {
   "cell_type": "markdown",
   "id": "8b185aad-465a-48c5-a0ae-c70a315e2818",
   "metadata": {},
   "source": [
    "# Versions of `import`\n",
    "\n",
    "1. `import MODNAME`, loads `MODNAME.py` that it finds in `sys.path` (if needed), and defines `MODNAME` as a variable referring to a module.\n",
    "2. `from MODNAME import NAME`, loads `MODNAME.py` that it finds in `sys.path`, and defines `NAME` as a variable referring to `MODNAME.NAME`. It does *NOT* define `MODNAME`."
   ]
  },
  {
   "cell_type": "markdown",
   "id": "7c1f3f13-7c04-4688-a555-f962d0ccf092",
   "metadata": {},
   "source": [
    "It's not uncommon for us to use `import`, but not to want to use the official module name as our variable name:\n",
    "\n",
    "- It might be hard/long to write\n",
    "- It might conflict with another variable/function in our system\n",
    "- It might not be standard\n",
    "\n",
    "In such cases, we want to load a module, but we want to give it a different name when defined. We want, in other words, to give it an alias. We can do that with `import MODNAME as ALIAS`."
   ]
  },
  {
   "cell_type": "code",
   "execution_count": 8,
   "id": "e81c02b6-6447-403a-a496-fccb747a2ffa",
   "metadata": {},
   "outputs": [],
   "source": [
    "import random as r    # this loads the random module, as before, but defines the variable \"r\" to refer to it"
   ]
  },
  {
   "cell_type": "code",
   "execution_count": 9,
   "id": "531413d4-42c4-4b26-ba33-524e689cf31a",
   "metadata": {},
   "outputs": [
    {
     "data": {
      "text/plain": [
       "46"
      ]
     },
     "execution_count": 9,
     "metadata": {},
     "output_type": "execute_result"
    }
   ],
   "source": [
    "r.randint(0, 100)"
   ]
  },
  {
   "cell_type": "code",
   "execution_count": 10,
   "id": "152ee5b4-6f40-4c8c-8e1c-7dd287c88934",
   "metadata": {},
   "outputs": [],
   "source": [
    "# if I want to load NumPy and Pandas, I'll say:\n",
    "\n",
    "import numpy as np\n",
    "import pandas as pd"
   ]
  },
  {
   "cell_type": "code",
   "execution_count": 11,
   "id": "56fb5d2d-12bd-4529-a53c-d2353fc91c07",
   "metadata": {},
   "outputs": [
    {
     "data": {
      "text/plain": [
       "109"
      ]
     },
     "execution_count": 11,
     "metadata": {},
     "output_type": "execute_result"
    }
   ],
   "source": [
    "# we can also give an alias to a single imported name from a module\n",
    "\n",
    "from random import randint as ri  \n",
    "\n",
    "ri(100, 200)"
   ]
  },
  {
   "cell_type": "markdown",
   "id": "618d75a4-e893-4feb-a7ee-fd0d25dd4fdb",
   "metadata": {},
   "source": [
    "# Versions of `import`\n",
    "\n",
    "1. `import MODNAME`, loads `MODNAME.py` that it finds in `sys.path` (if needed), and defines `MODNAME` as a variable referring to a module.\n",
    "2. `from MODNAME import NAME`, loads `MODNAME.py` that it finds in `sys.path`, and defines `NAME` as a variable referring to `MODNAME.NAME`. It does *NOT* define `MODNAME`.\n",
    "3. `import MODNAME as ALIAS`, loads `MODNAME.py` that it finds in `sys.path` (if needed), and defines `ALIAS` as a variable referring to a module.\n",
    "4. `from MODNAME import NAME as ALIAS`, loads `MODNAME.py` that it finds in `sys.path`, and defines `ALIAS` as a variable referring to `MODNAME.NAME`. It does *NOT* define `MODNAME`.\n"
   ]
  },
  {
   "cell_type": "markdown",
   "id": "0b24369a-c137-455b-bdff-fdd65ebfbab5",
   "metadata": {},
   "source": [
    "If we use `from MODNAME import NAME`, we can get one of the module's names into our namespace, so that we don't need to say `MODNAME.NAME`. What if I want more than one name? What if I want *all* of the names in a module to be imported into our namespace? Then we won't need to use the module name!\n",
    "\n",
    "**THIS IS A TERRIBLE IDEA!** \n",
    "\n",
    "You can do this with\n",
    "\n",
    "```python\n",
    "from MODNAME import *\n",
    "```\n",
    "\n",
    "This will take all of the variable, function, and class names defined in `MODNAME`, and define them in your namespace. If 500 variables are defined in `MODNAME`, then you'll now have 500 variables in your namespace."
   ]
  },
  {
   "cell_type": "markdown",
   "id": "2f9101a4-5b9a-48c8-b8ec-370558549497",
   "metadata": {},
   "source": [
    "# Exercise: Using aliases\n",
    "\n",
    "1. Ask the user to enter 3 numbers, in a single string separated by spaces.\n",
    "2. Choose one of them randomly, using `random.choice` -- but I want you to invoke it as `pick_a_number`.\n",
    "\n",
    "Example:\n",
    "\n",
    "    Enter numbers: 10 20 30\n",
    "    I chose 20.\n",
    "    "
   ]
  },
  {
   "cell_type": "code",
   "execution_count": 15,
   "id": "ac1b6e40-e39d-4c5d-9e0c-6139e14d0677",
   "metadata": {
    "scrolled": true
   },
   "outputs": [
    {
     "name": "stdin",
     "output_type": "stream",
     "text": [
      "Enter numbers:  10 20 30\n"
     ]
    },
    {
     "name": "stdout",
     "output_type": "stream",
     "text": [
      "I chose 20.\n"
     ]
    }
   ],
   "source": [
    "from random import choice as pick_a_number\n",
    "\n",
    "numbers = input('Enter numbers: ').split()\n",
    "picked_number = pick_a_number(numbers)\n",
    "print(f'I chose {picked_number}.')"
   ]
  },
  {
   "cell_type": "markdown",
   "id": "a78a08cc-2587-4d3a-a1b7-f355a0a40d1a",
   "metadata": {},
   "source": [
    "# Writing our own module\n",
    "\n",
    "How can we write our own module in Python?\n",
    "\n",
    "1. We write some Python code (variable and function definitions) in a file that ends in `.py`, and which is in `sys.path` -- or which is in the same directory as the program that wants to `import` it.\n",
    "2. We let someone else `import` it.\n",
    "3. "
   ]
  },
  {
   "cell_type": "code",
   "execution_count": 16,
   "id": "b4268381-49c4-4092-8dc6-28b1fb93f9eb",
   "metadata": {},
   "outputs": [],
   "source": [
    "import mymod    # this will create a module based on the contents of mymod.py (in the current directory)"
   ]
  },
  {
   "cell_type": "code",
   "execution_count": 17,
   "id": "9df5ca8f-6e85-428d-9098-a2fe9c9e1009",
   "metadata": {},
   "outputs": [
    {
     "data": {
      "text/plain": [
       "<module 'mymod' from '/Users/reuven/Courses/Current/OReilly-2024-autumn-python/mymod.py'>"
      ]
     },
     "execution_count": 17,
     "metadata": {},
     "output_type": "execute_result"
    }
   ],
   "source": [
    "mymod"
   ]
  },
  {
   "cell_type": "code",
   "execution_count": 18,
   "id": "60f2b846-a3c6-44ad-ab3d-51218b101085",
   "metadata": {},
   "outputs": [
    {
     "data": {
      "text/plain": [
       "['__builtins__',\n",
       " '__cached__',\n",
       " '__doc__',\n",
       " '__file__',\n",
       " '__loader__',\n",
       " '__name__',\n",
       " '__package__',\n",
       " '__spec__']"
      ]
     },
     "execution_count": 18,
     "metadata": {},
     "output_type": "execute_result"
    }
   ],
   "source": [
    "dir(mymod)   # what names are defined on our module?  A bunch of \"dunders,\" names with a double underscore before/after them"
   ]
  },
  {
   "cell_type": "code",
   "execution_count": 19,
   "id": "a3ded8e0-1eb6-428a-9c8e-11a5d31eb08f",
   "metadata": {},
   "outputs": [
    {
     "data": {
      "text/plain": [
       "'/Users/reuven/Courses/Current/OReilly-2024-autumn-python/mymod.py'"
      ]
     },
     "execution_count": 19,
     "metadata": {},
     "output_type": "execute_result"
    }
   ],
   "source": [
    "mymod.__file__  # what file were you loaded from?"
   ]
  },
  {
   "cell_type": "code",
   "execution_count": 20,
   "id": "e6fcae36-87bf-48dd-9920-2ab19914f8fe",
   "metadata": {},
   "outputs": [
    {
     "data": {
      "text/plain": [
       "'mymod'"
      ]
     },
     "execution_count": 20,
     "metadata": {},
     "output_type": "execute_result"
    }
   ],
   "source": [
    "mymod.__name__   # what do you think your name is, module?"
   ]
  },
  {
   "cell_type": "code",
   "execution_count": 21,
   "id": "aa0d6efb-eaa3-41dc-87fe-a64955476e77",
   "metadata": {},
   "outputs": [
    {
     "data": {
      "text/plain": [
       "['__builtins__',\n",
       " '__cached__',\n",
       " '__doc__',\n",
       " '__file__',\n",
       " '__loader__',\n",
       " '__name__',\n",
       " '__package__',\n",
       " '__spec__']"
      ]
     },
     "execution_count": 21,
     "metadata": {},
     "output_type": "execute_result"
    }
   ],
   "source": [
    "dir(mymod)"
   ]
  },
  {
   "cell_type": "code",
   "execution_count": 22,
   "id": "8d882343-2601-42a5-878d-890def2b35fc",
   "metadata": {},
   "outputs": [],
   "source": [
    "import mymod   # let's try loading it a second time..."
   ]
  },
  {
   "cell_type": "code",
   "execution_count": 24,
   "id": "205ad001-7f8f-4cd8-b74d-5064d0ad0fa7",
   "metadata": {},
   "outputs": [
    {
     "data": {
      "text/plain": [
       "['__builtins__',\n",
       " '__cached__',\n",
       " '__doc__',\n",
       " '__file__',\n",
       " '__loader__',\n",
       " '__name__',\n",
       " '__package__',\n",
       " '__spec__']"
      ]
     },
     "execution_count": 24,
     "metadata": {},
     "output_type": "execute_result"
    }
   ],
   "source": [
    "dir(mymod)"
   ]
  },
  {
   "cell_type": "code",
   "execution_count": 25,
   "id": "8b899e11-5b19-49f2-9c39-e9c7abab56c0",
   "metadata": {},
   "outputs": [
    {
     "data": {
      "text/plain": [
       "<module 'mymod' from '/Users/reuven/Courses/Current/OReilly-2024-autumn-python/mymod.py'>"
      ]
     },
     "execution_count": 25,
     "metadata": {},
     "output_type": "execute_result"
    }
   ],
   "source": [
    "# if I'm in Jupyter and want to reload a module, I need some help from the importlib module!\n",
    "\n",
    "from importlib import reload \n",
    "reload(mymod)"
   ]
  },
  {
   "cell_type": "code",
   "execution_count": 26,
   "id": "2bb20584-f003-47b1-b750-f3db15fa8a02",
   "metadata": {},
   "outputs": [
    {
     "data": {
      "text/plain": [
       "['__builtins__',\n",
       " '__cached__',\n",
       " '__doc__',\n",
       " '__file__',\n",
       " '__loader__',\n",
       " '__name__',\n",
       " '__package__',\n",
       " '__spec__',\n",
       " 'hello',\n",
       " 'x',\n",
       " 'y']"
      ]
     },
     "execution_count": 26,
     "metadata": {},
     "output_type": "execute_result"
    }
   ],
   "source": [
    "dir(mymod)"
   ]
  },
  {
   "cell_type": "code",
   "execution_count": 27,
   "id": "6038692e-245f-4188-82d3-27859dab404e",
   "metadata": {},
   "outputs": [
    {
     "data": {
      "text/plain": [
       "100"
      ]
     },
     "execution_count": 27,
     "metadata": {},
     "output_type": "execute_result"
    }
   ],
   "source": [
    "mymod.x"
   ]
  },
  {
   "cell_type": "code",
   "execution_count": 28,
   "id": "120560b6-2249-42b1-af0b-0a1c325c1d19",
   "metadata": {},
   "outputs": [
    {
     "data": {
      "text/plain": [
       "[10, 20, 30]"
      ]
     },
     "execution_count": 28,
     "metadata": {},
     "output_type": "execute_result"
    }
   ],
   "source": [
    "mymod.y"
   ]
  },
  {
   "cell_type": "code",
   "execution_count": 29,
   "id": "c08f7c33-7fa9-4a73-a244-c22a504432b9",
   "metadata": {},
   "outputs": [
    {
     "data": {
      "text/plain": [
       "'Hello, world!'"
      ]
     },
     "execution_count": 29,
     "metadata": {},
     "output_type": "execute_result"
    }
   ],
   "source": [
    "mymod.hello('world')"
   ]
  },
  {
   "cell_type": "code",
   "execution_count": 30,
   "id": "8a443617-bdf4-4635-ad6c-d8e18f4301e2",
   "metadata": {},
   "outputs": [],
   "source": [
    "from mymod import hello"
   ]
  },
  {
   "cell_type": "code",
   "execution_count": 31,
   "id": "978991ab-602f-4aa8-9be0-178471cee3d9",
   "metadata": {},
   "outputs": [
    {
     "data": {
      "text/plain": [
       "'Hello, world!'"
      ]
     },
     "execution_count": 31,
     "metadata": {},
     "output_type": "execute_result"
    }
   ],
   "source": [
    "hello('world')"
   ]
  },
  {
   "cell_type": "markdown",
   "id": "240c6e99-dcb1-44c1-aad9-ed5160ff28db",
   "metadata": {},
   "source": [
    "# Exercise: `menu` module\n",
    "\n",
    "1. Define a module, `menu.py`, which contains a single variable (`x`) with a value and a single function, `hello`, that takes an argument (`name`) and returns a string with a greeting for that name.\n",
    "2. `import` your module, and invoke `hello` on a name that the user provides via `input`."
   ]
  },
  {
   "cell_type": "code",
   "execution_count": 32,
   "id": "0eb33f3b-33df-4a40-99fd-168d04dbaa8c",
   "metadata": {},
   "outputs": [],
   "source": [
    "import menu "
   ]
  },
  {
   "cell_type": "code",
   "execution_count": 34,
   "id": "879dae7d-81f8-4c31-ad44-53cd113adce3",
   "metadata": {},
   "outputs": [
    {
     "data": {
      "text/plain": [
       "'Hello, world from menu'"
      ]
     },
     "execution_count": 34,
     "metadata": {},
     "output_type": "execute_result"
    }
   ],
   "source": [
    "menu.hello('world')"
   ]
  },
  {
   "cell_type": "code",
   "execution_count": 35,
   "id": "7814d68b-7cee-45ae-84a2-1cd4286d245b",
   "metadata": {},
   "outputs": [
    {
     "name": "stdin",
     "output_type": "stream",
     "text": [
      "Enter your name:  Reuven\n"
     ]
    },
    {
     "name": "stdout",
     "output_type": "stream",
     "text": [
      "Hello, Reuven from menu\n"
     ]
    }
   ],
   "source": [
    "name = input('Enter your name: ').strip()\n",
    "print(menu.hello(name))"
   ]
  },
  {
   "cell_type": "code",
   "execution_count": null,
   "id": "cc909cb8-6a84-4c2c-b01f-92d65f8a8147",
   "metadata": {},
   "outputs": [],
   "source": []
  }
 ],
 "metadata": {
  "kernelspec": {
   "display_name": "Python 3 (ipykernel)",
   "language": "python",
   "name": "python3"
  },
  "language_info": {
   "codemirror_mode": {
    "name": "ipython",
    "version": 3
   },
   "file_extension": ".py",
   "mimetype": "text/x-python",
   "name": "python",
   "nbconvert_exporter": "python",
   "pygments_lexer": "ipython3",
   "version": "3.13.0"
  }
 },
 "nbformat": 4,
 "nbformat_minor": 5
}
