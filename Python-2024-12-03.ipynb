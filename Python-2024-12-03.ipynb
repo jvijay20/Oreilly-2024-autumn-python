{
 "cells": [
  {
   "cell_type": "markdown",
   "id": "71c65a64-d6cd-4c94-800e-7b025cb6ad0a",
   "metadata": {},
   "source": [
    "# Agenda Day 5: Modules and packages\n",
    "\n",
    "1. Intro to modules -- what are they?\n",
    "2. The various forms of `import`\n",
    "3. Developing our own module and using it\n",
    "4. Python standard library\n",
    "5. Modules vs. packages\n",
    "6. PyPI and third-party packages\n",
    "7. Using `pip` to install PyPI packages\n",
    "8. What next?\n",
    "9. AMA (ask me anything!) "
   ]
  },
  {
   "cell_type": "markdown",
   "id": "f280f7bd-adee-4a68-a2ba-a3a897ab8f29",
   "metadata": {},
   "source": [
    "# DRY -- don't repeat yourself!\n",
    "\n",
    "1. If you have one or more lines of code that repeat themselves, then you should consider a loop.\n",
    "2. If you have the same code in several different places in your program, then you should consider writing a function.\n",
    "3. If you have the same code in *several different programs*, then you should consider a *library*.\n",
    "\n",
    "What is a library? It's a collection of functions and variables that someone else has written, which we can then use/reuse.\n",
    "\n",
    "If I can use a library, then I don't need to reinvent the wheel. Plus, they have probably spent time improving/debugging their library.\n",
    "\n",
    "In Python, we call our libraries *modules* and *packages*.\n",
    "\n",
    "- A module is a single file containing Python functions and data\n",
    "- A package is a directory/folder containing one or more modules\n",
    "\n",
    "A module in Python gives us not only the capabilities of a library in other languages, but it also gives us *namespaces*.\n",
    "\n",
    "A namespace is basically a last name for functions/variables, so that we (and Python) don't get confused between them and encounter \"namespace collisions.\"\n",
    "\n"
   ]
  },
  {
   "cell_type": "markdown",
   "id": "07610cc8-066a-408a-be3f-e1e906b04133",
   "metadata": {},
   "source": [
    "# How do we use a module?\n",
    "\n",
    "In Python, we use the `import` statement to use a module, and load it into memory.  The syntax for `import` is a bit strange: It's not a function, so we don't use `()`. It's not like in other languages, where we say what file we want to load. Rather, it looks like this:\n",
    "\n",
    "```python\n",
    "import modname\n",
    "```\n",
    "\n",
    "Notice how we run it:\n",
    "\n",
    "1. `import` doesn't have `()` after it\n",
    "2. The module we want to load isn't in `''`, because it's not a string or a filename. It's the name of the module we want to create.\n",
    "3. Python takes that module name, tacks on a `.py`, and then looks for a file -- in this case, `modname.py`.\n",
    "\n",
    "Once we load the module with `import`, we then have a module variable defined (`modname` in this case), and we can access its data and functions via `modname.NAME`, where `NAME` is anything we might want to access in the module.\n",
    "\n",
    "If the module `modname` has a function named `hello`, then after loading `modname`, we can run that function as `modname.hello()`. The `.` indicates that `hello` belongs to the module `modname`. That's the namespace!\n",
    "\n",
    "Module names are case senstive; they are traditionally all in lowercase."
   ]
  },
  {
   "cell_type": "code",
   "execution_count": 2,
   "id": "31cfba80-a53c-4e36-ac13-a01e3d9d0515",
   "metadata": {},
   "outputs": [],
   "source": [
    "# here, I'll import the \"random\" module, which comes with Python\n",
    "\n",
    "import random"
   ]
  },
  {
   "cell_type": "code",
   "execution_count": 3,
   "id": "4b11a46d-e79e-4157-9903-9eee2af6a252",
   "metadata": {},
   "outputs": [
    {
     "data": {
      "text/plain": [
       "<module 'random' from '/Users/reuven/.pyenv/versions/3.13.0/lib/python3.13/random.py'>"
      ]
     },
     "execution_count": 3,
     "metadata": {},
     "output_type": "execute_result"
    }
   ],
   "source": [
    "# what is this \"random\" variable that I just defined? It's a module!\n",
    "\n",
    "random"
   ]
  },
  {
   "cell_type": "code",
   "execution_count": 8,
   "id": "bafcc615-34d9-4b82-8a63-b95c0716f91f",
   "metadata": {},
   "outputs": [
    {
     "data": {
      "text/plain": [
       "33"
      ]
     },
     "execution_count": 8,
     "metadata": {},
     "output_type": "execute_result"
    }
   ],
   "source": [
    "# there is a function, random.randint, that returns a random integer between two extremes.\n",
    "# we can invoke \"randint\" that's defined inside of the \"random\" module\n",
    "\n",
    "random.randint(0, 100)"
   ]
  },
  {
   "cell_type": "code",
   "execution_count": null,
   "id": "cf734d10-7d27-45d6-b155-2f106c8a969c",
   "metadata": {},
   "outputs": [],
   "source": [
    "# if yo"
   ]
  }
 ],
 "metadata": {
  "kernelspec": {
   "display_name": "Python 3 (ipykernel)",
   "language": "python",
   "name": "python3"
  },
  "language_info": {
   "codemirror_mode": {
    "name": "ipython",
    "version": 3
   },
   "file_extension": ".py",
   "mimetype": "text/x-python",
   "name": "python",
   "nbconvert_exporter": "python",
   "pygments_lexer": "ipython3",
   "version": "3.13.0"
  }
 },
 "nbformat": 4,
 "nbformat_minor": 5
}
