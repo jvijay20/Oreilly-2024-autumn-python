{
 "cells": [
  {
   "cell_type": "markdown",
   "id": "71c65a64-d6cd-4c94-800e-7b025cb6ad0a",
   "metadata": {},
   "source": [
    "# Agenda Day 5: Modules and packages\n",
    "\n",
    "1. Intro to modules -- what are they?\n",
    "2. The various forms of `import`\n",
    "3. Developing our own module and using it\n",
    "4. Python standard library\n",
    "5. Modules vs. packages\n",
    "6. PyPI and third-party packages\n",
    "7. Using `pip` to install PyPI packages\n",
    "8. What next?\n",
    "9. AMA (ask me anything!) "
   ]
  },
  {
   "cell_type": "code",
   "execution_count": null,
   "id": "306c42aa-dea4-4094-b079-85048e97c6ee",
   "metadata": {},
   "outputs": [],
   "source": []
  }
 ],
 "metadata": {
  "kernelspec": {
   "display_name": "Python 3 (ipykernel)",
   "language": "python",
   "name": "python3"
  },
  "language_info": {
   "codemirror_mode": {
    "name": "ipython",
    "version": 3
   },
   "file_extension": ".py",
   "mimetype": "text/x-python",
   "name": "python",
   "nbconvert_exporter": "python",
   "pygments_lexer": "ipython3",
   "version": "3.13.0"
  }
 },
 "nbformat": 4,
 "nbformat_minor": 5
}
