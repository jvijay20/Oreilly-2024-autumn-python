{
 "cells": [
  {
   "cell_type": "markdown",
   "id": "71c65a64-d6cd-4c94-800e-7b025cb6ad0a",
   "metadata": {},
   "source": [
    "# Agenda Day 5: Modules and packages\n",
    "\n",
    "1. Intro to modules -- what are they?\n",
    "2. The various forms of `import`\n",
    "3. Developing our own module and using it\n",
    "4. Python standard library\n",
    "5. Modules vs. packages\n",
    "6. PyPI and third-party packages\n",
    "7. Using `pip` to install PyPI packages\n",
    "8. What next?\n",
    "9. AMA (ask me anything!) "
   ]
  },
  {
   "cell_type": "markdown",
   "id": "f280f7bd-adee-4a68-a2ba-a3a897ab8f29",
   "metadata": {},
   "source": [
    "# DRY -- don't repeat yourself!\n",
    "\n",
    "1. If you have one or more lines of code that repeat themselves, then you should consider a loop.\n",
    "2. If you have the same code in several different places in your program, then you should consider writing a function.\n",
    "3. If you have the same code in *several different programs*, then you should consider a *library*.\n",
    "\n",
    "What is a library? It's a collection of functions and variables that someone else has written, which we can then use/reuse.\n",
    "\n",
    "If I can use a library, then I don't need to reinvent the wheel. Plus, they have probably spent time improving/debugging their library.\n",
    "\n",
    "In Python, we call our libraries *modules* and *packages*.\n",
    "\n",
    "- A module is a single file containing Python functions and data\n",
    "- A package is a directory/folder containing one or more modules\n",
    "\n",
    "A module in Python gives us not only the capabilities of a library in other languages, but it also gives us *namespaces*.\n",
    "\n",
    "A namespace is basically a last name for functions/variables, so that we (and Python) don't get confused between them and encounter \"namespace collisions.\"\n",
    "\n"
   ]
  },
  {
   "cell_type": "code",
   "execution_count": null,
   "id": "c5513c3f-2809-4b18-995a-ef017fbf1ce5",
   "metadata": {},
   "outputs": [],
   "source": []
  }
 ],
 "metadata": {
  "kernelspec": {
   "display_name": "Python 3 (ipykernel)",
   "language": "python",
   "name": "python3"
  },
  "language_info": {
   "codemirror_mode": {
    "name": "ipython",
    "version": 3
   },
   "file_extension": ".py",
   "mimetype": "text/x-python",
   "name": "python",
   "nbconvert_exporter": "python",
   "pygments_lexer": "ipython3",
   "version": "3.13.0"
  }
 },
 "nbformat": 4,
 "nbformat_minor": 5
}
