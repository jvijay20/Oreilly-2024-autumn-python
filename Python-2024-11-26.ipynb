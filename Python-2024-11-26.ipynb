{
 "cells": [
  {
   "cell_type": "markdown",
   "metadata": {},
   "source": [
    "# Agenda, week 4: Functions\n",
    "\n",
    "1. Q&A\n",
    "2. What are functions?\n",
    "3. Writing simple functions\n",
    "4. Arguments and parameters\n",
    "5. Return values\n",
    "6. Default argument values\n",
    "7. Complex return values and unpacking\n",
    "8. Local vs. global variables, and issues/problems you might run into"
   ]
  },
  {
   "cell_type": "markdown",
   "metadata": {},
   "source": [
    "# What are functions?\n",
    "\n",
    "A function is a verb in Python. It tells the language what we want to do. (When I say \"function,\" I mean functions/methods.) \n",
    "\n",
    "Do we need functions? No! We *want* them, and they're useful, but we can write software without functions.\n",
    "\n",
    "When we define a function, we're defining a new verb for Python. The moment that we define a new verb, it's not that we can do new things -- but we can use that verb in various ways, in larger and more interesting contexts. Basically, we've gone up a level of abstraction, ignoring som"
   ]
  }
 ],
 "metadata": {
  "kernelspec": {
   "display_name": "Python 3 (ipykernel)",
   "language": "python",
   "name": "python3"
  },
  "language_info": {
   "codemirror_mode": {
    "name": "ipython",
    "version": 3
   },
   "file_extension": ".py",
   "mimetype": "text/x-python",
   "name": "python",
   "nbconvert_exporter": "python",
   "pygments_lexer": "ipython3",
   "version": "3.13.0"
  }
 },
 "nbformat": 4,
 "nbformat_minor": 4
}
