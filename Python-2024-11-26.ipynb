{
 "cells": [
  {
   "cell_type": "markdown",
   "metadata": {},
   "source": [
    "# Agenda, week 4: Functions\n",
    "\n",
    "1. Q&A\n",
    "2. What are functions?\n",
    "3. Writing simple functions\n",
    "4. Arguments and parameters\n",
    "5. Return values\n",
    "6. Default argument values\n",
    "7. Complex return values and unpacking\n",
    "8. Local vs. global variables, and issues/problems you might run into"
   ]
  },
  {
   "cell_type": "markdown",
   "metadata": {},
   "source": [
    "# What are functions?\n",
    "\n",
    "A function is a verb in Python. It tells the language what we want to do. (When I say \"function,\" I mean functions/methods.) \n",
    "\n",
    "Do we need functions? No! We *want* them, and they're useful, but we can write software without functions.\n",
    "\n",
    "When we define a function, we're defining a new verb for Python. The moment that we define a new verb, it's not that we can do new things -- but we can use that verb in various ways, in larger and more interesting contexts. Basically, we've gone up a level of abstraction, ignoring some of the details but gaining semantic power.\n",
    "\n",
    "Functions are another way to \"DRY up\" our code (don't repeat yourself). If you have the same code in several places in your program, you can define a function, and then invoke the function each time you want to run that code. This gives you the semantic power of functions, but also is very practical.\n",
    "\n",
    "We've seen a variety of functions:\n",
    "\n",
    "- `print`\n",
    "- `input`\n",
    "- `len`\n",
    "- `type`\n",
    "\n",
    "We've also seen methods, which are basically functions, too:\n",
    "\n",
    "- `str.split`\n",
    "- `str.strip`\n",
    "- `dict.items`\n",
    "- `list.append`\n",
    "\n"
   ]
  },
  {
   "cell_type": "markdown",
   "metadata": {},
   "source": [
    "# Defining a function\n",
    "\n",
    "To define a new function, we use the reserved word `def` (for \"define\"):\n",
    "\n",
    "- We say `def`\n",
    "- We name the function we want to define\n",
    "- In parentheses (`()`), we put any *parameters* that our function will have. Right now, we haven't talked about parameters, so we'll just have empty parentheses\n",
    "- At the end of the line, we have a colon (`:`)\n",
    "- Following that, we have the indented block of the function, i.e., the \"function body.\" As with a loop body, a function body can contain *any* code you want:\n",
    "    - Loops\n",
    "    - Input and output\n",
    "    - Working with files and the network\n",
    "    - Define variables\n",
    "    - `if`/`else`\n"
   ]
  },
  {
   "cell_type": "code",
   "execution_count": 1,
   "metadata": {},
   "outputs": [],
   "source": [
    "def hello():\n",
    "    print('Hello!')"
   ]
  },
  {
   "cell_type": "code",
   "execution_count": 2,
   "metadata": {},
   "outputs": [
    {
     "data": {
      "text/plain": [
       "function"
      ]
     },
     "execution_count": 2,
     "metadata": {},
     "output_type": "execute_result"
    }
   ],
   "source": [
    "# if we want, we can check that \"hello\" is a function\n",
    "\n",
    "type(hello)   # hello, the function's name, is a variable in Python, and we can ask for its type"
   ]
  },
  {
   "cell_type": "markdown",
   "metadata": {},
   "source": [
    "# What happens when we define a function?\n",
    "\n",
    "Two things:\n",
    "\n",
    "1. We create a new function object. Functions are nouns, not just verbs, in Python.\n",
    "2. We assign the function to a variable -- the name that we used next to `def`.\n",
    "\n",
    "Practically speaking, this means that you cannot have a variable and a function with the same name; the most recent one to be defined exists, and has that name. Also, if you define a function more than once, the most recent definition will also hold there."
   ]
  },
  {
   "cell_type": "code",
   "execution_count": 3,
   "metadata": {},
   "outputs": [
    {
     "name": "stdout",
     "output_type": "stream",
     "text": [
      "Hello!\n"
     ]
    }
   ],
   "source": [
    "# how do I run a function?\n",
    "\n",
    "hello()   # it's SUPER IMPORTANT to invoke a function with parentheses!"
   ]
  },
  {
   "cell_type": "markdown",
   "metadata": {},
   "source": [
    "# Exercise: Calculator\n",
    "\n",
    "1. Define a new function, `calc`, that when run asks the user to enter three pieces of information:\n",
    "    - The first number\n",
    "    - The operator (`+` or `*`)\n",
    "    - The second number\n",
    "2. Print the result of the appropriate math expression on the screen.\n",
    "\n",
    "Example:\n",
    "\n",
    "    calc()\n",
    "    Enter first number: 10\n",
    "    Enter operator: *\n",
    "    Enter second number: 3\n",
    "    10 * 3 = 30\n",
    "\n",
    "Let's assume that the user will enter numbers when we ask for them. If they enter an operator that we don't handle, you can say that the result is `undefined` or something."
   ]
  },
  {
   "cell_type": "code",
   "execution_count": 4,
   "metadata": {},
   "outputs": [],
   "source": [
    "def calc():\n",
    "    first = input('Enter first number: ').strip()\n",
    "    op = input('Enter operator: ').strip()\n",
    "    second = input('Enter second number: ').strip()\n",
    "\n",
    "    first = int(first)\n",
    "    second = int(second)\n",
    "\n",
    "    if op == '+':\n",
    "        result = first + second\n",
    "    elif op == '*':\n",
    "        result = first * second\n",
    "    else:\n",
    "        result = f'Unknown operator {op}'\n",
    "\n",
    "    print(f'{first} {op} {second} = {result}')"
   ]
  },
  {
   "cell_type": "code",
   "execution_count": 7,
   "metadata": {},
   "outputs": [
    {
     "name": "stdin",
     "output_type": "stream",
     "text": [
      "Enter first number:  10\n",
      "Enter operator:  /\n",
      "Enter second number:  5\n"
     ]
    },
    {
     "name": "stdout",
     "output_type": "stream",
     "text": [
      "10 / 5 = Unknown operator /\n"
     ]
    }
   ],
   "source": [
    "calc()"
   ]
  },
  {
   "cell_type": "code",
   "execution_count": 9,
   "metadata": {},
   "outputs": [],
   "source": [
    "def calc():\n",
    "    first = input('Enter first number: ').strip()\n",
    "    op = input('Enter operator: ').strip()\n",
    "    second = input('Enter second number: ').strip()\n",
    "\n",
    "    first = float(first)\n",
    "    second = float(second)\n",
    "\n",
    "    if op == '+':\n",
    "        result = first + second\n",
    "    elif op == '*':\n",
    "        result = first * second\n",
    "    else:\n",
    "        result = f'Unknown operator {op}'\n",
    "\n",
    "    print(f'{first} {op} {second} = {result}')"
   ]
  },
  {
   "cell_type": "code",
   "execution_count": 12,
   "metadata": {},
   "outputs": [
    {
     "name": "stdin",
     "output_type": "stream",
     "text": [
      "Enter first number:  10.5\n",
      "Enter operator:  *\n",
      "Enter second number:  18.6\n"
     ]
    },
    {
     "name": "stdout",
     "output_type": "stream",
     "text": [
      "10.5 * 18.6 = 195.3\n"
     ]
    }
   ],
   "source": [
    "calc()"
   ]
  },
  {
   "cell_type": "markdown",
   "metadata": {},
   "source": [
    "# What does `str.strip()` do?\n",
    "\n",
    "The `str.strip` method, when run on a string, returns a new string -- identical to the input string, but without any whitespace (spaces, newlines, carriage returns, tab) on the edges of the string. It doesn't touch the original string, and doesn't touch whitespace that aren't on the edges.\n",
    "\n",
    "If we invoke `input` to get input from the user, then we'll get a string. We can invoke `str.strip` on any string, including the a"
   ]
  }
 ],
 "metadata": {
  "kernelspec": {
   "display_name": "Python 3 (ipykernel)",
   "language": "python",
   "name": "python3"
  },
  "language_info": {
   "codemirror_mode": {
    "name": "ipython",
    "version": 3
   },
   "file_extension": ".py",
   "mimetype": "text/x-python",
   "name": "python",
   "nbconvert_exporter": "python",
   "pygments_lexer": "ipython3",
   "version": "3.13.0"
  }
 },
 "nbformat": 4,
 "nbformat_minor": 4
}
