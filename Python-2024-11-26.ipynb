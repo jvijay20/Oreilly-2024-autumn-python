{
 "cells": [
  {
   "cell_type": "markdown",
   "metadata": {},
   "source": [
    "# Agenda, week 4: Functions\n",
    "\n",
    "1. Q&A\n",
    "2. What are functions?\n",
    "3. Writing simple functions\n",
    "4. Arguments and parameters\n",
    "5. Return values\n",
    "6. Default argument values\n",
    "7. Complex return values and unpacking\n",
    "8. Local vs. global variables, and issues/problems you might run into"
   ]
  },
  {
   "cell_type": "markdown",
   "metadata": {},
   "source": [
    "# What are functions?\n",
    "\n",
    "A function is a verb in Python. It tells the language what we want to do. (When I say \"function,\" I mean functions/methods.) \n",
    "\n",
    "Do we need functions? No! We *want* them, and they're useful, but we can write software without functions.\n",
    "\n",
    "When we define a function, we're defining a new verb for Python. The moment that we define a new verb, it's not that we can do new things -- but we can use that verb in various ways, in larger and more interesting contexts. Basically, we've gone up a level of abstraction, ignoring some of the details but gaining semantic power.\n",
    "\n",
    "Functions are another way to \"DRY up\" our code (don't repeat yourself). If you have the same code in several places in your program, you can define a function, and then invoke the function each time you want to run that code. This gives you the semantic power of functions, but also is very practical.\n",
    "\n",
    "We've seen a variety of functions:\n",
    "\n",
    "- `print`\n",
    "- `input`\n",
    "- `len`\n",
    "- `type`\n",
    "\n",
    "We've also seen methods, which are basically functions, too:\n",
    "\n",
    "- `str.split`\n",
    "- `str.strip`\n",
    "- `dict.items`\n",
    "- `list.append`\n",
    "\n"
   ]
  },
  {
   "cell_type": "code",
   "execution_count": null,
   "metadata": {},
   "outputs": [],
   "source": []
  }
 ],
 "metadata": {
  "kernelspec": {
   "display_name": "Python 3 (ipykernel)",
   "language": "python",
   "name": "python3"
  },
  "language_info": {
   "codemirror_mode": {
    "name": "ipython",
    "version": 3
   },
   "file_extension": ".py",
   "mimetype": "text/x-python",
   "name": "python",
   "nbconvert_exporter": "python",
   "pygments_lexer": "ipython3",
   "version": "3.13.0"
  }
 },
 "nbformat": 4,
 "nbformat_minor": 4
}
