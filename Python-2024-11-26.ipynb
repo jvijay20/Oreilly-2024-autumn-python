{
 "cells": [
  {
   "cell_type": "markdown",
   "metadata": {},
   "source": [
    "# Agenda, week 4: Functions\n",
    "\n",
    "1. Q&A\n",
    "2. What are functions?\n",
    "3. Writing simple functions\n",
    "4. Arguments and parameters\n",
    "5. Return values\n",
    "6. Default argument values\n",
    "7. Complex return values and unpacking\n",
    "8. Local vs. global variables, and issues/problems you might run into"
   ]
  },
  {
   "cell_type": "markdown",
   "metadata": {},
   "source": [
    "# What are functions?\n",
    "\n",
    "A function is a verb in Python. It tells the language what we want to do. (When I say \"function,\" I mean functions/methods.) \n",
    "\n",
    "Do we need functions? No! We *want* them, and they're useful, but we can write software without functions.\n",
    "\n",
    "When we define a function, we're defining a new verb for Python. The moment that we define a new verb, it's not that we can do new things -- but we can use that verb in various ways, in larger and more interesting contexts. Basically, we've gone up a level of abstraction, ignoring some of the details but gaining semantic power.\n",
    "\n",
    "Functions are another way to \"DRY up\" our code (don't repeat yourself). If you have the same code in several places in your program, you can define a function, and then invoke the function each time you want to run that code. This gives you the semantic power of functions, but also is very practical.\n",
    "\n",
    "We've seen a variety of functions:\n",
    "\n",
    "- `print`\n",
    "- `input`\n",
    "- `len`\n",
    "- `type`\n",
    "\n",
    "We've also seen methods, which are basically functions, too:\n",
    "\n",
    "- `str.split`\n",
    "- `str.strip`\n",
    "- `dict.items`\n",
    "- `list.append`\n",
    "\n"
   ]
  },
  {
   "cell_type": "markdown",
   "metadata": {},
   "source": [
    "# Defining a function\n",
    "\n",
    "To define a new function, we use the reserved word `def` (for \"define\"):\n",
    "\n",
    "- We say `def`\n",
    "- We name the function we want to define\n",
    "- In parentheses (`()`), we put any *parameters* that our function will have. Right now, we haven't talked about parameters, so we'll just have empty parentheses\n",
    "- At the end of the line, we have a colon (`:`)\n",
    "- Following that, we have the indented block of the function, i.e., the \"function body.\" As with a loop body, a function body can contain *any* code you want:\n",
    "    - Loops\n",
    "    - Input and output\n",
    "    - Working with files and the network\n",
    "    - Define variables\n",
    "    - `if`/`else`\n"
   ]
  },
  {
   "cell_type": "code",
   "execution_count": 1,
   "metadata": {},
   "outputs": [],
   "source": [
    "def hello():\n",
    "    print('Hello!')"
   ]
  },
  {
   "cell_type": "code",
   "execution_count": 2,
   "metadata": {},
   "outputs": [
    {
     "data": {
      "text/plain": [
       "function"
      ]
     },
     "execution_count": 2,
     "metadata": {},
     "output_type": "execute_result"
    }
   ],
   "source": [
    "# if we want, we can check that \"hello\" is a function\n",
    "\n",
    "type(hello)   # hello, the function's name, is a variable in Python, and we can ask for its type"
   ]
  },
  {
   "cell_type": "markdown",
   "metadata": {},
   "source": [
    "# What happens when we define a function?\n",
    "\n",
    "Two things:\n",
    "\n",
    "1. We create a new function object. Functions are nouns, not just verbs, in Python.\n",
    "2. We assign the function to a variable -- the name that we used next to `def`.\n",
    "\n",
    "Practically speaking, this means that you cannot have a variable and a function with the same name; the most recent one to be defined exists, and has that name. Also, if you define a function more than once, the most recent definition will also hold there."
   ]
  },
  {
   "cell_type": "code",
   "execution_count": 3,
   "metadata": {},
   "outputs": [
    {
     "name": "stdout",
     "output_type": "stream",
     "text": [
      "Hello!\n"
     ]
    }
   ],
   "source": [
    "# how do I run a function?\n",
    "\n",
    "hello()   # it's SUPER IMPORTANT to invoke a function with parentheses!"
   ]
  },
  {
   "cell_type": "markdown",
   "metadata": {},
   "source": [
    "# Exercise: Calculator\n",
    "\n",
    "1. Define a new function, `calc`, that when run asks the user to enter three pieces of information:\n",
    "    - The first number\n",
    "    - The operator (`+` or `*`)\n",
    "    - The second number\n",
    "2. Print the result of the appropriate math expression on the screen.\n",
    "\n",
    "Example:\n",
    "\n",
    "    calc()\n",
    "    Enter first number: 10\n",
    "    Enter operator: *\n",
    "    Enter second number: 3\n",
    "    10 * 3 = 30\n",
    "\n",
    "Let's assume that the user will enter numbers when we ask for them. If they enter an operator that we don't handle, you can say that the result is `undefined` or something."
   ]
  },
  {
   "cell_type": "code",
   "execution_count": 4,
   "metadata": {},
   "outputs": [],
   "source": [
    "def calc():\n",
    "    first = input('Enter first number: ').strip()\n",
    "    op = input('Enter operator: ').strip()\n",
    "    second = input('Enter second number: ').strip()\n",
    "\n",
    "    first = int(first)\n",
    "    second = int(second)\n",
    "\n",
    "    if op == '+':\n",
    "        result = first + second\n",
    "    elif op == '*':\n",
    "        result = first * second\n",
    "    else:\n",
    "        result = f'Unknown operator {op}'\n",
    "\n",
    "    print(f'{first} {op} {second} = {result}')"
   ]
  },
  {
   "cell_type": "code",
   "execution_count": 7,
   "metadata": {},
   "outputs": [
    {
     "name": "stdin",
     "output_type": "stream",
     "text": [
      "Enter first number:  10\n",
      "Enter operator:  /\n",
      "Enter second number:  5\n"
     ]
    },
    {
     "name": "stdout",
     "output_type": "stream",
     "text": [
      "10 / 5 = Unknown operator /\n"
     ]
    }
   ],
   "source": [
    "calc()"
   ]
  },
  {
   "cell_type": "code",
   "execution_count": 9,
   "metadata": {},
   "outputs": [],
   "source": [
    "def calc():\n",
    "    first = input('Enter first number: ').strip()\n",
    "    op = input('Enter operator: ').strip()\n",
    "    second = input('Enter second number: ').strip()\n",
    "\n",
    "    first = float(first)\n",
    "    second = float(second)\n",
    "\n",
    "    if op == '+':\n",
    "        result = first + second\n",
    "    elif op == '*':\n",
    "        result = first * second\n",
    "    else:\n",
    "        result = f'Unknown operator {op}'\n",
    "\n",
    "    print(f'{first} {op} {second} = {result}')"
   ]
  },
  {
   "cell_type": "code",
   "execution_count": 12,
   "metadata": {},
   "outputs": [
    {
     "name": "stdin",
     "output_type": "stream",
     "text": [
      "Enter first number:  10.5\n",
      "Enter operator:  *\n",
      "Enter second number:  18.6\n"
     ]
    },
    {
     "name": "stdout",
     "output_type": "stream",
     "text": [
      "10.5 * 18.6 = 195.3\n"
     ]
    }
   ],
   "source": [
    "calc()"
   ]
  },
  {
   "cell_type": "markdown",
   "metadata": {},
   "source": [
    "# What does `str.strip()` do?\n",
    "\n",
    "The `str.strip` method, when run on a string, returns a new string -- identical to the input string, but without any whitespace (spaces, newlines, carriage returns, tab) on the edges of the string. It doesn't touch the original string, and doesn't touch whitespace that aren't on the edges.\n",
    "\n",
    "If we invoke `input` to get input from the user, then we'll get a string. We can invoke `str.strip` on any string, including the anonymous one that we got back from `input`."
   ]
  },
  {
   "cell_type": "markdown",
   "metadata": {},
   "source": [
    "# What's wrong with our function?\n",
    "\n",
    "We have to be at the computer, and ready to type, to calculate things. The inputs and outputs are meant for people, but not for automated testing or other use.\n"
   ]
  },
  {
   "cell_type": "markdown",
   "metadata": {},
   "source": [
    "# Arguments and parameters\n",
    "\n",
    "When we invoke a function, we can pass one or more values to that function in the form of *arguments*. When we invoke `print`, whatever pass is the argument to it.\n",
    "\n",
    "Every function can define what arguments it expects, what it requires, and what it'll do to them.\n",
    "\n",
    "When a function gets called the arguments are mapped onto the parameters, variables that accept arguments. It's using these parameters that we can get input from outside of the function and be as generic as possible.\n",
    "\n",
    "In our function, on the top line, we can indicate what parameters the function takes, and thus what arguments should be passed.\n",
    "\n",
    "Many many many people confuse \"arguments\" and \"parameters.\" I'll try to distinguish them:\n",
    "- Arguments are values. If you called `print` with `5`, then the argument you passed was `5`.\n",
    "- Parameters are variables. They are assigned the arguments when you call a function. "
   ]
  },
  {
   "cell_type": "code",
   "execution_count": 13,
   "metadata": {},
   "outputs": [],
   "source": [
    "def hello(name):   # this new version will take one argument, the name\n",
    "    print(f'Hello, {name}!')"
   ]
  },
  {
   "cell_type": "code",
   "execution_count": 14,
   "metadata": {},
   "outputs": [
    {
     "ename": "TypeError",
     "evalue": "hello() missing 1 required positional argument: 'name'",
     "output_type": "error",
     "traceback": [
      "\u001b[0;31m---------------------------------------------------------------------------\u001b[0m",
      "\u001b[0;31mTypeError\u001b[0m                                 Traceback (most recent call last)",
      "Cell \u001b[0;32mIn[14], line 2\u001b[0m\n\u001b[1;32m      1\u001b[0m \u001b[38;5;66;03m# calling hello without any argument gives us an error\u001b[39;00m\n\u001b[0;32m----> 2\u001b[0m \u001b[43mhello\u001b[49m\u001b[43m(\u001b[49m\u001b[43m)\u001b[49m\n",
      "\u001b[0;31mTypeError\u001b[0m: hello() missing 1 required positional argument: 'name'"
     ]
    }
   ],
   "source": [
    "# calling hello without any argument gives us an error\n",
    "hello()"
   ]
  },
  {
   "cell_type": "code",
   "execution_count": 15,
   "metadata": {},
   "outputs": [],
   "source": [
    "# what if our function takes more than one argument?\n",
    "# then we have more than one parameter -- each argument goes to another parameter.\n",
    "\n",
    "def hello(first_name, last_name):\n",
    "    print(f'Hello, {first_name} {last_name}')"
   ]
  },
  {
   "cell_type": "code",
   "execution_count": 16,
   "metadata": {},
   "outputs": [
    {
     "name": "stdout",
     "output_type": "stream",
     "text": [
      "Hello, Reuven Lerner\n"
     ]
    }
   ],
   "source": [
    "# parameters: first_name  last_name\n",
    "# arguments:  'Reuven'     'Lerner'   # we assign the arguments to the parameters *positionally*, in order\n",
    "\n",
    "hello('Reuven', 'Lerner')"
   ]
  },
  {
   "cell_type": "markdown",
   "metadata": {},
   "source": [
    "# Exercise: Calculator rewrite\n",
    "\n",
    "1. Rewrite `calc` such that it takes three arguments -- `first`, `op`, and `second`\n",
    "2. It should produce the same output as before."
   ]
  },
  {
   "cell_type": "code",
   "execution_count": 17,
   "metadata": {},
   "outputs": [
    {
     "ename": "TypeError",
     "evalue": "hello() missing 2 required positional arguments: 'first_name' and 'last_name'",
     "output_type": "error",
     "traceback": [
      "\u001b[0;31m---------------------------------------------------------------------------\u001b[0m",
      "\u001b[0;31mTypeError\u001b[0m                                 Traceback (most recent call last)",
      "Cell \u001b[0;32mIn[17], line 3\u001b[0m\n\u001b[1;32m      1\u001b[0m \u001b[38;5;66;03m# if you try to call a function with the wrong number of arguments, it'll fail.\u001b[39;00m\n\u001b[0;32m----> 3\u001b[0m \u001b[43mhello\u001b[49m\u001b[43m(\u001b[49m\u001b[43m)\u001b[49m  \u001b[38;5;66;03m# no arguments\u001b[39;00m\n",
      "\u001b[0;31mTypeError\u001b[0m: hello() missing 2 required positional arguments: 'first_name' and 'last_name'"
     ]
    }
   ],
   "source": [
    "# if you try to call a function with the wrong number of arguments, it'll fail.\n",
    "\n",
    "hello()  # no arguments"
   ]
  },
  {
   "cell_type": "code",
   "execution_count": 19,
   "metadata": {},
   "outputs": [
    {
     "ename": "TypeError",
     "evalue": "hello() missing 1 required positional argument: 'last_name'",
     "output_type": "error",
     "traceback": [
      "\u001b[0;31m---------------------------------------------------------------------------\u001b[0m",
      "\u001b[0;31mTypeError\u001b[0m                                 Traceback (most recent call last)",
      "Cell \u001b[0;32mIn[19], line 1\u001b[0m\n\u001b[0;32m----> 1\u001b[0m \u001b[43mhello\u001b[49m\u001b[43m(\u001b[49m\u001b[38;5;124;43m'\u001b[39;49m\u001b[38;5;124;43mabcd\u001b[39;49m\u001b[38;5;124;43m'\u001b[39;49m\u001b[43m)\u001b[49m\n",
      "\u001b[0;31mTypeError\u001b[0m: hello() missing 1 required positional argument: 'last_name'"
     ]
    }
   ],
   "source": [
    "hello('abcd')"
   ]
  },
  {
   "cell_type": "code",
   "execution_count": 20,
   "metadata": {},
   "outputs": [
    {
     "ename": "TypeError",
     "evalue": "hello() takes 2 positional arguments but 3 were given",
     "output_type": "error",
     "traceback": [
      "\u001b[0;31m---------------------------------------------------------------------------\u001b[0m",
      "\u001b[0;31mTypeError\u001b[0m                                 Traceback (most recent call last)",
      "Cell \u001b[0;32mIn[20], line 1\u001b[0m\n\u001b[0;32m----> 1\u001b[0m \u001b[43mhello\u001b[49m\u001b[43m(\u001b[49m\u001b[38;5;124;43m'\u001b[39;49m\u001b[38;5;124;43ma\u001b[39;49m\u001b[38;5;124;43m'\u001b[39;49m\u001b[43m,\u001b[49m\u001b[43m \u001b[49m\u001b[38;5;124;43m'\u001b[39;49m\u001b[38;5;124;43mb\u001b[39;49m\u001b[38;5;124;43m'\u001b[39;49m\u001b[43m,\u001b[49m\u001b[43m \u001b[49m\u001b[38;5;124;43m'\u001b[39;49m\u001b[38;5;124;43mc\u001b[39;49m\u001b[38;5;124;43m'\u001b[39;49m\u001b[43m)\u001b[49m\n",
      "\u001b[0;31mTypeError\u001b[0m: hello() takes 2 positional arguments but 3 were given"
     ]
    }
   ],
   "source": [
    "hello('a', 'b', 'c')"
   ]
  },
  {
   "cell_type": "code",
   "execution_count": 21,
   "metadata": {},
   "outputs": [],
   "source": [
    "def calc(first, op, second):\n",
    "    if op == '+':\n",
    "        result = first + second\n",
    "    elif op == '*':\n",
    "        result = first * second\n",
    "    else:\n",
    "        result = f'Unknown operator {op}'\n",
    "\n",
    "    print(f'{first} {op} {second} = {result}')"
   ]
  },
  {
   "cell_type": "code",
   "execution_count": 22,
   "metadata": {},
   "outputs": [
    {
     "name": "stdout",
     "output_type": "stream",
     "text": [
      "10 + 3 = 13\n"
     ]
    }
   ],
   "source": [
    "calc(10, '+', 3)"
   ]
  },
  {
   "cell_type": "code",
   "execution_count": 23,
   "metadata": {},
   "outputs": [
    {
     "name": "stdout",
     "output_type": "stream",
     "text": [
      "2345 * 8 = 18760\n"
     ]
    }
   ],
   "source": [
    "calc(2345, '*', 8)"
   ]
  },
  {
   "cell_type": "markdown",
   "metadata": {},
   "source": [
    "# How is someone supposed to know?\n",
    "\n",
    "If I want to invoke a function (or method, for that matter), then I need to know what arguments to pass -- based on the function's parameters.\n",
    "\n",
    "How can I know that?\n",
    "\n",
    "Nearly every function in Python is documented using \"docstrings.\" If the first line of a function contains a string -- not assigning to it, just passing, then that line is the \"docstring,\" meaning the string that will be displayed when we want documentation."
   ]
  },
  {
   "cell_type": "code",
   "execution_count": 24,
   "metadata": {},
   "outputs": [],
   "source": [
    "def calc(first, op, second):\n",
    "    'Function that calculates things'\n",
    "    \n",
    "    if op == '+':\n",
    "        result = first + second\n",
    "    elif op == '*':\n",
    "        result = first * second\n",
    "    else:\n",
    "        result = f'Unknown operator {op}'\n",
    "\n",
    "    print(f'{first} {op} {second} = {result}')"
   ]
  },
  {
   "cell_type": "code",
   "execution_count": 25,
   "metadata": {},
   "outputs": [
    {
     "name": "stdout",
     "output_type": "stream",
     "text": [
      "Help on function calc in module __main__:\n",
      "\n",
      "calc(first, op, second)\n",
      "    Function that calculates things\n",
      "\n"
     ]
    }
   ],
   "source": [
    "# we can invoke the \"help\" function to learn more\n",
    "\n",
    "help(calc)"
   ]
  },
  {
   "cell_type": "code",
   "execution_count": 26,
   "metadata": {},
   "outputs": [],
   "source": [
    "# it's traditional to use triple-quoted strings\n",
    "\n",
    "def calc(first, op, second):\n",
    "    '''Function that calculates things\n",
    "    \n",
    "    It is the best!'''\n",
    "    \n",
    "    if op == '+':\n",
    "        result = first + second\n",
    "    elif op == '*':\n",
    "        result = first * second\n",
    "    else:\n",
    "        result = f'Unknown operator {op}'\n",
    "\n",
    "    print(f'{first} {op} {second} = {result}')"
   ]
  },
  {
   "cell_type": "code",
   "execution_count": 27,
   "metadata": {},
   "outputs": [
    {
     "name": "stdout",
     "output_type": "stream",
     "text": [
      "Help on function calc in module __main__:\n",
      "\n",
      "calc(first, op, second)\n",
      "    Function that calculates things\n",
      "\n",
      "    It is the best!\n",
      "\n"
     ]
    }
   ],
   "source": [
    "help(calc)"
   ]
  },
  {
   "cell_type": "markdown",
   "metadata": {},
   "source": [
    "# What should a good docstring look like?\n",
    "\n",
    "It should say:\n",
    "\n",
    "- Expects -- what inputs does the function expect from the outside world (i.e., the arguments)?\n",
    "- Modifies -- what, if anything, is changed? Files, values, etc.\n",
    "- Returns -- what, if anything, is returned?"
   ]
  },
  {
   "cell_type": "code",
   "execution_count": 28,
   "metadata": {},
   "outputs": [],
   "source": [
    "# it's traditional to use triple-quoted strings\n",
    "\n",
    "def calc(first, op, second):\n",
    "    '''Function that takes two numbers and a operator, and returns a string with the result of running them.\n",
    "\n",
    "    - Expects: Two integers and a float\n",
    "    - Modifies: Nothing\n",
    "    - Returns: Prints on the screen\n",
    "    \n",
    "    It is the best!'''\n",
    "    \n",
    "    if op == '+':\n",
    "        result = first + second\n",
    "    elif op == '*':\n",
    "        result = first * second\n",
    "    else:\n",
    "        result = f'Unknown operator {op}'\n",
    "\n",
    "    print(f'{first} {op} {second} = {result}')"
   ]
  },
  {
   "cell_type": "code",
   "execution_count": 30,
   "metadata": {},
   "outputs": [
    {
     "name": "stdout",
     "output_type": "stream",
     "text": [
      "10 + 15 = 25\n"
     ]
    }
   ],
   "source": [
    "calc(10, '+', 15)"
   ]
  },
  {
   "cell_type": "markdown",
   "metadata": {},
   "source": [
    "# Comments vs. docstrings\n",
    "\n",
    "- Comments are meant for whoever will *maintain* the code. It's meant for developers who might get lost in what's there.\n",
    "- Docstrings are meant for whoever will *call* the function.\n",
    "\n",
    "Docstrings must appear in the first line of a function. Later in a function, it won't do anything special."
   ]
  },
  {
   "cell_type": "code",
   "execution_count": 32,
   "metadata": {},
   "outputs": [],
   "source": [
    "# what happens if we pass different types here?\n",
    "\n",
    "def hello(name):\n",
    "    print(f'Hello, {name}!')"
   ]
  },
  {
   "cell_type": "code",
   "execution_count": 33,
   "metadata": {},
   "outputs": [
    {
     "name": "stdout",
     "output_type": "stream",
     "text": [
      "Hello, world!\n"
     ]
    }
   ],
   "source": [
    "hello('world')"
   ]
  },
  {
   "cell_type": "code",
   "execution_count": 34,
   "metadata": {},
   "outputs": [
    {
     "name": "stdout",
     "output_type": "stream",
     "text": [
      "Hello, 5!\n"
     ]
    }
   ],
   "source": [
    "hello(5)"
   ]
  },
  {
   "cell_type": "code",
   "execution_count": 35,
   "metadata": {},
   "outputs": [
    {
     "name": "stdout",
     "output_type": "stream",
     "text": [
      "Hello, {'a': 10, 'b': 20}!\n"
     ]
    }
   ],
   "source": [
    "hello({'a':10, 'b':20})"
   ]
  },
  {
   "cell_type": "markdown",
   "metadata": {},
   "source": [
    "# Next up\n",
    "\n",
    "1. Keyword arguments\n",
    "2. Return values"
   ]
  },
  {
   "cell_type": "markdown",
   "metadata": {},
   "source": [
    "# Passing arguments\n",
    "\n",
    "If our function is defined with three parameters, then we'll need to call it with three arguments each time. So far, we've seen *positional* arguments, where the matching of arguments to parameters is done in order. \n",
    "\n",
    "But there are times when this is hard to read or understand, or we might just want to pass arguments in a different way. Python provides us with another way, namely \"keyword arguments.\"\n",
    "\n",
    "In this case, the arguments are passed in the form of `name=value`, with an `=` between the name and value. The parameter whose name matches is then given the argument value."
   ]
  },
  {
   "cell_type": "code",
   "execution_count": 36,
   "metadata": {},
   "outputs": [],
   "source": [
    "def hello(first_name, last_name):\n",
    "    print(f'Hello, {first_name} {last_name}')"
   ]
  },
  {
   "cell_type": "code",
   "execution_count": 37,
   "metadata": {},
   "outputs": [
    {
     "name": "stdout",
     "output_type": "stream",
     "text": [
      "Hello, Reuven Lerner\n"
     ]
    }
   ],
   "source": [
    "# parameters: first_name last_name\n",
    "# arguments:  'Reuven      'Lerner'    # positional\n",
    "\n",
    "hello('Reuven', 'Lerner')"
   ]
  },
  {
   "cell_type": "code",
   "execution_count": 38,
   "metadata": {},
   "outputs": [
    {
     "name": "stdout",
     "output_type": "stream",
     "text": [
      "Hello, Reuven Lerner\n"
     ]
    }
   ],
   "source": [
    "# parameters: first_name    last_name\n",
    "# arguments:   'Reuven'       'Lerner'\n",
    "\n",
    "hello(first_name='Reuven', last_name='Lerner')"
   ]
  },
  {
   "cell_type": "code",
   "execution_count": 39,
   "metadata": {},
   "outputs": [
    {
     "name": "stdout",
     "output_type": "stream",
     "text": [
      "Hello, Reuven Lerner\n"
     ]
    }
   ],
   "source": [
    "hello(last_name='Lerner', first_name='Reuven')"
   ]
  },
  {
   "cell_type": "code",
   "execution_count": 40,
   "metadata": {},
   "outputs": [
    {
     "name": "stdout",
     "output_type": "stream",
     "text": [
      "Hello, Reuven Lerner\n"
     ]
    }
   ],
   "source": [
    "# you can pass any number of positional arguments and keyword arguments... but all of the positionals \n",
    "# need to come before all of the keywords.\n",
    "\n",
    "hello('Reuven', last_name='Lerner')   # first is positional, second is keyword"
   ]
  },
  {
   "cell_type": "code",
   "execution_count": 41,
   "metadata": {},
   "outputs": [
    {
     "ename": "SyntaxError",
     "evalue": "positional argument follows keyword argument (150474183.py, line 1)",
     "output_type": "error",
     "traceback": [
      "\u001b[0;36m  Cell \u001b[0;32mIn[41], line 1\u001b[0;36m\u001b[0m\n\u001b[0;31m    hello(first_name='Reuven', 'Lerner')\u001b[0m\n\u001b[0m                                       ^\u001b[0m\n\u001b[0;31mSyntaxError\u001b[0m\u001b[0;31m:\u001b[0m positional argument follows keyword argument\n"
     ]
    }
   ],
   "source": [
    "hello(first_name='Reuven', 'Lerner')"
   ]
  },
  {
   "cell_type": "code",
   "execution_count": 42,
   "metadata": {},
   "outputs": [
    {
     "name": "stdin",
     "output_type": "stream",
     "text": [
      "Enter your name:  sdfsafas\n"
     ]
    }
   ],
   "source": [
    "name = input('Enter your name: ')"
   ]
  },
  {
   "cell_type": "code",
   "execution_count": 43,
   "metadata": {},
   "outputs": [
    {
     "name": "stdout",
     "output_type": "stream",
     "text": [
      "10 + = 15\n"
     ]
    }
   ],
   "source": [
    "def calc(first, operand, second):\n",
    "\n",
    "    if operand == '+':\n",
    "        result = first + second\n",
    "    elif operand == '*':\n",
    "        result = first * second\n",
    "    else:\n",
    "        result = f'unknown operator {operand}'\n",
    "\n",
    "    print(f'{first} {operand} = {result}')\n",
    "\n",
    "calc(10, '+', 5)  "
   ]
  },
  {
   "cell_type": "code",
   "execution_count": null,
   "metadata": {},
   "outputs": [],
   "source": []
  }
 ],
 "metadata": {
  "kernelspec": {
   "display_name": "Python 3 (ipykernel)",
   "language": "python",
   "name": "python3"
  },
  "language_info": {
   "codemirror_mode": {
    "name": "ipython",
    "version": 3
   },
   "file_extension": ".py",
   "mimetype": "text/x-python",
   "name": "python",
   "nbconvert_exporter": "python",
   "pygments_lexer": "ipython3",
   "version": "3.13.0"
  }
 },
 "nbformat": 4,
 "nbformat_minor": 4
}
