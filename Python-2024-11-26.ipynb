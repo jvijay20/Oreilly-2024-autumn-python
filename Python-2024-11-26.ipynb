{
 "cells": [
  {
   "cell_type": "markdown",
   "metadata": {},
   "source": [
    "# Agenda, week 4: Functions\n",
    "\n",
    "1. Q&A\n",
    "2. What are functions?\n",
    "3. Writing simple functions\n",
    "4. Arguments and parameters\n",
    "5. Return values\n",
    "6. Default argument values\n",
    "7. Complex return values and unpacking\n",
    "8. Local vs. global variables, and issues/problems you might run into"
   ]
  },
  {
   "cell_type": "markdown",
   "metadata": {},
   "source": [
    "# What are functions?\n",
    "\n",
    "A function is a verb in Python. It tells the language what we want to do. (When I say \"function,\" I mean functions/methods.) \n",
    "\n",
    "Do we need functions? No! We *want* them, and they're useful, but we can write software without functions.\n",
    "\n",
    "When we define a function, we're defining a new verb for Python. The moment that we define a new verb, it's not that we can do new things -- but we can use that verb in various ways, in larger and more interesting contexts. Basically, we've gone up a level of abstraction, ignoring some of the details but gaining semantic power.\n",
    "\n",
    "Functions are another way to \"DRY up\" our code (don't repeat yourself). If you have the same code in several places in your program, you can define a function, and then invoke the function each time you want to run that code. This gives you the semantic power of functions, but also is very practical.\n",
    "\n",
    "We've seen a variety of functions:\n",
    "\n",
    "- `print`\n",
    "- `input`\n",
    "- `len`\n",
    "- `type`\n",
    "\n",
    "We've also seen methods, which are basically functions, too:\n",
    "\n",
    "- `str.split`\n",
    "- `str.strip`\n",
    "- `dict.items`\n",
    "- `list.append`\n",
    "\n"
   ]
  },
  {
   "cell_type": "markdown",
   "metadata": {},
   "source": [
    "# Defining a function\n",
    "\n",
    "To define a new function, we use the reserved word `def` (for \"define\"):\n",
    "\n",
    "- We say `def`\n",
    "- We name the function we want to define\n",
    "- In parentheses (`()`), we put any *parameters* that our function will have. Right now, we haven't talked about parameters, so we'll just have empty parentheses\n",
    "- At the end of the line, we have a colon (`:`)\n",
    "- Following that, we have the indented block of the function, i.e., the \"function body.\" As with a loop body, a function body can contain *any* code you want:\n",
    "    - Loops\n",
    "    - Input and output\n",
    "    - Working with files and the network\n",
    "    - Define variables\n",
    "    - `if`/`else`\n"
   ]
  },
  {
   "cell_type": "code",
   "execution_count": 1,
   "metadata": {},
   "outputs": [],
   "source": [
    "def hello():\n",
    "    print('Hello!')"
   ]
  },
  {
   "cell_type": "code",
   "execution_count": 2,
   "metadata": {},
   "outputs": [
    {
     "data": {
      "text/plain": [
       "function"
      ]
     },
     "execution_count": 2,
     "metadata": {},
     "output_type": "execute_result"
    }
   ],
   "source": [
    "# if we want, we can check that \"hello\" is a function\n",
    "\n",
    "type(hello)   # hello, the function's name, is a variable in Python, and we can ask for its type"
   ]
  },
  {
   "cell_type": "markdown",
   "metadata": {},
   "source": [
    "# What happens when we define a function?\n",
    "\n",
    "Two things:\n",
    "\n",
    "1. We create a new function object. Functions are nouns, not just verbs, in Python.\n",
    "2. We assign the function to a variable -- the name that we used next to `def`.\n",
    "\n",
    "Practically speaking, this means that you cannot have a variable and a function with the same name; the most recent one to be defined exists, and has that name. Also, if you define a function more than once, the most recent definition will also hold there."
   ]
  },
  {
   "cell_type": "code",
   "execution_count": 3,
   "metadata": {},
   "outputs": [
    {
     "name": "stdout",
     "output_type": "stream",
     "text": [
      "Hello!\n"
     ]
    }
   ],
   "source": [
    "# how do I run a function?\n",
    "\n",
    "hello()   # it's SUPER IMPORTANT to invoke a function with parentheses!"
   ]
  },
  {
   "cell_type": "markdown",
   "metadata": {},
   "source": [
    "# Exercise: Calculator\n",
    "\n",
    "1. Define a new function, `calc`, that when run asks the user to enter three pieces of information:\n",
    "    - The first number\n",
    "    - The operator (`+` or `*`)\n",
    "    - The second number\n",
    "2. Print the result of the appropriate math expression on the screen.\n",
    "\n",
    "Example:\n",
    "\n",
    "    calc()\n",
    "    Enter first number: 10\n",
    "    Enter operator: *\n",
    "    Enter second number: 3\n",
    "    10 * 3 = 30\n",
    "\n",
    "Let's assume that the user will enter numbers when we ask for them. If they enter an operator that we don't handle, you can say that the result is `undefined` or something."
   ]
  },
  {
   "cell_type": "code",
   "execution_count": 4,
   "metadata": {},
   "outputs": [],
   "source": [
    "def calc():\n",
    "    first = input('Enter first number: ').strip()\n",
    "    op = input('Enter operator: ').strip()\n",
    "    second = input('Enter second number: ').strip()\n",
    "\n",
    "    first = int(first)\n",
    "    second = int(second)\n",
    "\n",
    "    if op == '+':\n",
    "        result = first + second\n",
    "    elif op == '*':\n",
    "        result = first * second\n",
    "    else:\n",
    "        result = f'Unknown operator {op}'\n",
    "\n",
    "    print(f'{first} {op} {second} = {result}')"
   ]
  },
  {
   "cell_type": "code",
   "execution_count": 7,
   "metadata": {},
   "outputs": [
    {
     "name": "stdin",
     "output_type": "stream",
     "text": [
      "Enter first number:  10\n",
      "Enter operator:  /\n",
      "Enter second number:  5\n"
     ]
    },
    {
     "name": "stdout",
     "output_type": "stream",
     "text": [
      "10 / 5 = Unknown operator /\n"
     ]
    }
   ],
   "source": [
    "calc()"
   ]
  },
  {
   "cell_type": "code",
   "execution_count": 9,
   "metadata": {},
   "outputs": [],
   "source": [
    "def calc():\n",
    "    first = input('Enter first number: ').strip()\n",
    "    op = input('Enter operator: ').strip()\n",
    "    second = input('Enter second number: ').strip()\n",
    "\n",
    "    first = float(first)\n",
    "    second = float(second)\n",
    "\n",
    "    if op == '+':\n",
    "        result = first + second\n",
    "    elif op == '*':\n",
    "        result = first * second\n",
    "    else:\n",
    "        result = f'Unknown operator {op}'\n",
    "\n",
    "    print(f'{first} {op} {second} = {result}')"
   ]
  },
  {
   "cell_type": "code",
   "execution_count": 12,
   "metadata": {},
   "outputs": [
    {
     "name": "stdin",
     "output_type": "stream",
     "text": [
      "Enter first number:  10.5\n",
      "Enter operator:  *\n",
      "Enter second number:  18.6\n"
     ]
    },
    {
     "name": "stdout",
     "output_type": "stream",
     "text": [
      "10.5 * 18.6 = 195.3\n"
     ]
    }
   ],
   "source": [
    "calc()"
   ]
  },
  {
   "cell_type": "markdown",
   "metadata": {},
   "source": [
    "# What does `str.strip()` do?\n",
    "\n",
    "The `str.strip` method, when run on a string, returns a new string -- identical to the input string, but without any whitespace (spaces, newlines, carriage returns, tab) on the edges of the string. It doesn't touch the original string, and doesn't touch whitespace that aren't on the edges.\n",
    "\n",
    "If we invoke `input` to get input from the user, then we'll get a string. We can invoke `str.strip` on any string, including the anonymous one that we got back from `input`."
   ]
  },
  {
   "cell_type": "markdown",
   "metadata": {},
   "source": [
    "# What's wrong with our function?\n",
    "\n",
    "We have to be at the computer, and ready to type, to calculate things. The inputs and outputs are meant for people, but not for automated testing or other use.\n"
   ]
  },
  {
   "cell_type": "markdown",
   "metadata": {},
   "source": [
    "# Arguments and parameters\n",
    "\n",
    "When we invoke a function, we can pass one or more values to that function in the form of *arguments*. When we invoke `print`, whatever pass is the argument to it.\n",
    "\n",
    "Every function can define what arguments it expects, what it requires, and what it'll do to them.\n",
    "\n",
    "When a function gets called the arguments are mapped onto the parameters, variables that accept arguments. It's using these parameters that we can get input from outside of the function and be as generic as possible.\n",
    "\n",
    "In our function, on the top line, we can indicate what parameters the function takes, and thus what arguments should be passed.\n",
    "\n",
    "Many many many people confuse \"arguments\" and \"parameters.\" I'll try to distinguish them:\n",
    "- Arguments are values. If you called `print` with `5`, then the argument you passed was `5`.\n",
    "- Parameters are variables. They are assigned the arguments when you call a function. "
   ]
  },
  {
   "cell_type": "code",
   "execution_count": 13,
   "metadata": {},
   "outputs": [],
   "source": [
    "def hello(name):   # this new version will take one argument, the name\n",
    "    print(f'Hello, {name}!')"
   ]
  },
  {
   "cell_type": "code",
   "execution_count": 14,
   "metadata": {},
   "outputs": [
    {
     "ename": "TypeError",
     "evalue": "hello() missing 1 required positional argument: 'name'",
     "output_type": "error",
     "traceback": [
      "\u001b[0;31m---------------------------------------------------------------------------\u001b[0m",
      "\u001b[0;31mTypeError\u001b[0m                                 Traceback (most recent call last)",
      "Cell \u001b[0;32mIn[14], line 2\u001b[0m\n\u001b[1;32m      1\u001b[0m \u001b[38;5;66;03m# calling hello without any argument gives us an error\u001b[39;00m\n\u001b[0;32m----> 2\u001b[0m \u001b[43mhello\u001b[49m\u001b[43m(\u001b[49m\u001b[43m)\u001b[49m\n",
      "\u001b[0;31mTypeError\u001b[0m: hello() missing 1 required positional argument: 'name'"
     ]
    }
   ],
   "source": [
    "# calling hello without any argument gives us an error\n",
    "hello()"
   ]
  },
  {
   "cell_type": "code",
   "execution_count": 15,
   "metadata": {},
   "outputs": [],
   "source": [
    "# what if our function takes more than one argument?\n",
    "# then we have more than one parameter -- each argument goes to another parameter.\n",
    "\n",
    "def hello(first_name, last_name):\n",
    "    print(f'Hello, {first_name} {last_name}')"
   ]
  },
  {
   "cell_type": "code",
   "execution_count": 16,
   "metadata": {},
   "outputs": [
    {
     "name": "stdout",
     "output_type": "stream",
     "text": [
      "Hello, Reuven Lerner\n"
     ]
    }
   ],
   "source": [
    "# parameters: first_name  last_name\n",
    "# arguments:  'Reuven'     'Lerner'   # we assign the arguments to the parameters *positionally*, in order\n",
    "\n",
    "hello('Reuven', 'Lerner')"
   ]
  },
  {
   "cell_type": "markdown",
   "metadata": {},
   "source": [
    "# Exercise: Calculator rewrite\n",
    "\n",
    "1. Rewrite `calc` such that it takes three arguments -- `first`, `op`, and `second`\n",
    "2. It should produce the same output as before."
   ]
  },
  {
   "cell_type": "code",
   "execution_count": 17,
   "metadata": {},
   "outputs": [
    {
     "ename": "TypeError",
     "evalue": "hello() missing 2 required positional arguments: 'first_name' and 'last_name'",
     "output_type": "error",
     "traceback": [
      "\u001b[0;31m---------------------------------------------------------------------------\u001b[0m",
      "\u001b[0;31mTypeError\u001b[0m                                 Traceback (most recent call last)",
      "Cell \u001b[0;32mIn[17], line 3\u001b[0m\n\u001b[1;32m      1\u001b[0m \u001b[38;5;66;03m# if you try to call a function with the wrong number of arguments, it'll fail.\u001b[39;00m\n\u001b[0;32m----> 3\u001b[0m \u001b[43mhello\u001b[49m\u001b[43m(\u001b[49m\u001b[43m)\u001b[49m  \u001b[38;5;66;03m# no arguments\u001b[39;00m\n",
      "\u001b[0;31mTypeError\u001b[0m: hello() missing 2 required positional arguments: 'first_name' and 'last_name'"
     ]
    }
   ],
   "source": [
    "# if you try to call a function with the wrong number of arguments, it'll fail.\n",
    "\n",
    "hello()  # no arguments"
   ]
  },
  {
   "cell_type": "code",
   "execution_count": 19,
   "metadata": {},
   "outputs": [
    {
     "ename": "TypeError",
     "evalue": "hello() missing 1 required positional argument: 'last_name'",
     "output_type": "error",
     "traceback": [
      "\u001b[0;31m---------------------------------------------------------------------------\u001b[0m",
      "\u001b[0;31mTypeError\u001b[0m                                 Traceback (most recent call last)",
      "Cell \u001b[0;32mIn[19], line 1\u001b[0m\n\u001b[0;32m----> 1\u001b[0m \u001b[43mhello\u001b[49m\u001b[43m(\u001b[49m\u001b[38;5;124;43m'\u001b[39;49m\u001b[38;5;124;43mabcd\u001b[39;49m\u001b[38;5;124;43m'\u001b[39;49m\u001b[43m)\u001b[49m\n",
      "\u001b[0;31mTypeError\u001b[0m: hello() missing 1 required positional argument: 'last_name'"
     ]
    }
   ],
   "source": [
    "hello('abcd')"
   ]
  },
  {
   "cell_type": "code",
   "execution_count": 20,
   "metadata": {},
   "outputs": [
    {
     "ename": "TypeError",
     "evalue": "hello() takes 2 positional arguments but 3 were given",
     "output_type": "error",
     "traceback": [
      "\u001b[0;31m---------------------------------------------------------------------------\u001b[0m",
      "\u001b[0;31mTypeError\u001b[0m                                 Traceback (most recent call last)",
      "Cell \u001b[0;32mIn[20], line 1\u001b[0m\n\u001b[0;32m----> 1\u001b[0m \u001b[43mhello\u001b[49m\u001b[43m(\u001b[49m\u001b[38;5;124;43m'\u001b[39;49m\u001b[38;5;124;43ma\u001b[39;49m\u001b[38;5;124;43m'\u001b[39;49m\u001b[43m,\u001b[49m\u001b[43m \u001b[49m\u001b[38;5;124;43m'\u001b[39;49m\u001b[38;5;124;43mb\u001b[39;49m\u001b[38;5;124;43m'\u001b[39;49m\u001b[43m,\u001b[49m\u001b[43m \u001b[49m\u001b[38;5;124;43m'\u001b[39;49m\u001b[38;5;124;43mc\u001b[39;49m\u001b[38;5;124;43m'\u001b[39;49m\u001b[43m)\u001b[49m\n",
      "\u001b[0;31mTypeError\u001b[0m: hello() takes 2 positional arguments but 3 were given"
     ]
    }
   ],
   "source": [
    "hello('a', 'b', 'c')"
   ]
  },
  {
   "cell_type": "code",
   "execution_count": 21,
   "metadata": {},
   "outputs": [],
   "source": [
    "def calc(first, op, second):\n",
    "    if op == '+':\n",
    "        result = first + second\n",
    "    elif op == '*':\n",
    "        result = first * second\n",
    "    else:\n",
    "        result = f'Unknown operator {op}'\n",
    "\n",
    "    print(f'{first} {op} {second} = {result}')"
   ]
  },
  {
   "cell_type": "code",
   "execution_count": 22,
   "metadata": {},
   "outputs": [
    {
     "name": "stdout",
     "output_type": "stream",
     "text": [
      "10 + 3 = 13\n"
     ]
    }
   ],
   "source": [
    "calc(10, '+', 3)"
   ]
  },
  {
   "cell_type": "code",
   "execution_count": 23,
   "metadata": {},
   "outputs": [
    {
     "name": "stdout",
     "output_type": "stream",
     "text": [
      "2345 * 8 = 18760\n"
     ]
    }
   ],
   "source": [
    "calc(2345, '*', 8)"
   ]
  },
  {
   "cell_type": "markdown",
   "metadata": {},
   "source": [
    "# How is someone supposed to know?\n",
    "\n",
    "If I want to invoke a function (or method, for that matter), then I need to know what arguments to pass -- based on the function's parameters.\n",
    "\n",
    "How can I know that?\n",
    "\n",
    "Nearly every function in Python is documented using \"docstrings.\" If the first line of a function contains a string -- not assigning to it, just passing, then that line is the \"docstring,\" meaning the string that will be displayed when we want documentation."
   ]
  },
  {
   "cell_type": "code",
   "execution_count": 24,
   "metadata": {},
   "outputs": [],
   "source": [
    "def calc(first, op, second):\n",
    "    'Function that calculates things'\n",
    "    \n",
    "    if op == '+':\n",
    "        result = first + second\n",
    "    elif op == '*':\n",
    "        result = first * second\n",
    "    else:\n",
    "        result = f'Unknown operator {op}'\n",
    "\n",
    "    print(f'{first} {op} {second} = {result}')"
   ]
  },
  {
   "cell_type": "code",
   "execution_count": 25,
   "metadata": {},
   "outputs": [
    {
     "name": "stdout",
     "output_type": "stream",
     "text": [
      "Help on function calc in module __main__:\n",
      "\n",
      "calc(first, op, second)\n",
      "    Function that calculates things\n",
      "\n"
     ]
    }
   ],
   "source": [
    "# we can invoke the \"help\" function to learn more\n",
    "\n",
    "help(calc)"
   ]
  },
  {
   "cell_type": "code",
   "execution_count": 26,
   "metadata": {},
   "outputs": [],
   "source": [
    "# it's traditional to use triple-quoted strings\n",
    "\n",
    "def calc(first, op, second):\n",
    "    '''Function that calculates things\n",
    "    \n",
    "    It is the best!'''\n",
    "    \n",
    "    if op == '+':\n",
    "        result = first + second\n",
    "    elif op == '*':\n",
    "        result = first * second\n",
    "    else:\n",
    "        result = f'Unknown operator {op}'\n",
    "\n",
    "    print(f'{first} {op} {second} = {result}')"
   ]
  },
  {
   "cell_type": "code",
   "execution_count": 27,
   "metadata": {},
   "outputs": [
    {
     "name": "stdout",
     "output_type": "stream",
     "text": [
      "Help on function calc in module __main__:\n",
      "\n",
      "calc(first, op, second)\n",
      "    Function that calculates things\n",
      "\n",
      "    It is the best!\n",
      "\n"
     ]
    }
   ],
   "source": [
    "help(calc)"
   ]
  },
  {
   "cell_type": "markdown",
   "metadata": {},
   "source": [
    "# What should a good docstring look like?\n",
    "\n",
    "It should say:\n",
    "\n",
    "- Expects -- what inputs does the function expect from the outside world (i.e., the arguments)?\n",
    "- Modifies -- what, if anything, is changed? Files, values, etc.\n",
    "- Returns -- what, if anything, is returned?"
   ]
  },
  {
   "cell_type": "code",
   "execution_count": 28,
   "metadata": {},
   "outputs": [],
   "source": [
    "# it's traditional to use triple-quoted strings\n",
    "\n",
    "def calc(first, op, second):\n",
    "    '''Function that takes two numbers and a operator, and returns a string with the result of running them.\n",
    "\n",
    "    - Expects: Two integers and a float\n",
    "    - Modifies: Nothing\n",
    "    - Returns: Prints on the screen\n",
    "    \n",
    "    It is the best!'''\n",
    "    \n",
    "    if op == '+':\n",
    "        result = first + second\n",
    "    elif op == '*':\n",
    "        result = first * second\n",
    "    else:\n",
    "        result = f'Unknown operator {op}'\n",
    "\n",
    "    print(f'{first} {op} {second} = {result}')"
   ]
  },
  {
   "cell_type": "code",
   "execution_count": 30,
   "metadata": {},
   "outputs": [
    {
     "name": "stdout",
     "output_type": "stream",
     "text": [
      "10 + 15 = 25\n"
     ]
    }
   ],
   "source": [
    "calc(10, '+', 15)"
   ]
  },
  {
   "cell_type": "markdown",
   "metadata": {},
   "source": [
    "# Comments vs. docstrings\n",
    "\n",
    "- Comments are meant for whoever will *maintain* the code. It's meant for developers who might get lost in what's there.\n",
    "- Docstrings are meant for whoever will *call* the function.\n",
    "\n",
    "Docstrings must appear in the first line of a function. Later in a function, it won't do anything special."
   ]
  },
  {
   "cell_type": "code",
   "execution_count": 32,
   "metadata": {},
   "outputs": [],
   "source": [
    "# what happens if we pass different types here?\n",
    "\n",
    "def hello(name):\n",
    "    print(f'Hello, {name}!')"
   ]
  },
  {
   "cell_type": "code",
   "execution_count": 33,
   "metadata": {},
   "outputs": [
    {
     "name": "stdout",
     "output_type": "stream",
     "text": [
      "Hello, world!\n"
     ]
    }
   ],
   "source": [
    "hello('world')"
   ]
  },
  {
   "cell_type": "code",
   "execution_count": 34,
   "metadata": {},
   "outputs": [
    {
     "name": "stdout",
     "output_type": "stream",
     "text": [
      "Hello, 5!\n"
     ]
    }
   ],
   "source": [
    "hello(5)"
   ]
  },
  {
   "cell_type": "code",
   "execution_count": 35,
   "metadata": {},
   "outputs": [
    {
     "name": "stdout",
     "output_type": "stream",
     "text": [
      "Hello, {'a': 10, 'b': 20}!\n"
     ]
    }
   ],
   "source": [
    "hello({'a':10, 'b':20})"
   ]
  },
  {
   "cell_type": "markdown",
   "metadata": {},
   "source": [
    "# Next up\n",
    "\n",
    "1. Keyword arguments\n",
    "2. Return values"
   ]
  },
  {
   "cell_type": "markdown",
   "metadata": {},
   "source": [
    "# Passing arguments\n",
    "\n",
    "If our function is defined with three parameters, then we'll need to call it with three arguments each time. So far, we've seen *positional* arguments, where the matching of arguments to parameters is done in order. \n",
    "\n",
    "But there are times when this is hard to read or understand, or we might just want to pass arguments in a different way. Python provides us with another way, namely \"keyword arguments.\"\n",
    "\n",
    "In this case, the arguments are passed in the form of `name=value`, with an `=` between the name and value. The parameter whose name matches is then given the argument value."
   ]
  },
  {
   "cell_type": "code",
   "execution_count": 36,
   "metadata": {},
   "outputs": [],
   "source": [
    "def hello(first_name, last_name):\n",
    "    print(f'Hello, {first_name} {last_name}')"
   ]
  },
  {
   "cell_type": "code",
   "execution_count": 37,
   "metadata": {},
   "outputs": [
    {
     "name": "stdout",
     "output_type": "stream",
     "text": [
      "Hello, Reuven Lerner\n"
     ]
    }
   ],
   "source": [
    "# parameters: first_name last_name\n",
    "# arguments:  'Reuven      'Lerner'    # positional\n",
    "\n",
    "hello('Reuven', 'Lerner')"
   ]
  },
  {
   "cell_type": "code",
   "execution_count": 38,
   "metadata": {},
   "outputs": [
    {
     "name": "stdout",
     "output_type": "stream",
     "text": [
      "Hello, Reuven Lerner\n"
     ]
    }
   ],
   "source": [
    "# parameters: first_name    last_name\n",
    "# arguments:   'Reuven'       'Lerner'\n",
    "\n",
    "hello(first_name='Reuven', last_name='Lerner')"
   ]
  },
  {
   "cell_type": "code",
   "execution_count": 39,
   "metadata": {},
   "outputs": [
    {
     "name": "stdout",
     "output_type": "stream",
     "text": [
      "Hello, Reuven Lerner\n"
     ]
    }
   ],
   "source": [
    "hello(last_name='Lerner', first_name='Reuven')"
   ]
  },
  {
   "cell_type": "code",
   "execution_count": 40,
   "metadata": {},
   "outputs": [
    {
     "name": "stdout",
     "output_type": "stream",
     "text": [
      "Hello, Reuven Lerner\n"
     ]
    }
   ],
   "source": [
    "# you can pass any number of positional arguments and keyword arguments... but all of the positionals \n",
    "# need to come before all of the keywords.\n",
    "\n",
    "hello('Reuven', last_name='Lerner')   # first is positional, second is keyword"
   ]
  },
  {
   "cell_type": "code",
   "execution_count": 41,
   "metadata": {},
   "outputs": [
    {
     "ename": "SyntaxError",
     "evalue": "positional argument follows keyword argument (150474183.py, line 1)",
     "output_type": "error",
     "traceback": [
      "\u001b[0;36m  Cell \u001b[0;32mIn[41], line 1\u001b[0;36m\u001b[0m\n\u001b[0;31m    hello(first_name='Reuven', 'Lerner')\u001b[0m\n\u001b[0m                                       ^\u001b[0m\n\u001b[0;31mSyntaxError\u001b[0m\u001b[0;31m:\u001b[0m positional argument follows keyword argument\n"
     ]
    }
   ],
   "source": [
    "hello(first_name='Reuven', 'Lerner')"
   ]
  },
  {
   "cell_type": "code",
   "execution_count": 42,
   "metadata": {},
   "outputs": [
    {
     "name": "stdin",
     "output_type": "stream",
     "text": [
      "Enter your name:  sdfsafas\n"
     ]
    }
   ],
   "source": [
    "name = input('Enter your name: ')"
   ]
  },
  {
   "cell_type": "code",
   "execution_count": 44,
   "metadata": {},
   "outputs": [
    {
     "name": "stdout",
     "output_type": "stream",
     "text": [
      "10 + 5 = 15\n"
     ]
    }
   ],
   "source": [
    "def calc(first, operand, second):\n",
    "\n",
    "    if operand == '+':\n",
    "        result = first + second\n",
    "    elif operand == '*':\n",
    "        result = first * second\n",
    "    else:\n",
    "        result = f'unknown operator {operand}'\n",
    "\n",
    "    print(f'{first} {operand} {second} = {result}')\n",
    "\n",
    "calc(10, '+', 5)  "
   ]
  },
  {
   "cell_type": "markdown",
   "metadata": {},
   "source": [
    "# Getting values to our function\n",
    "\n",
    "If we want our function to be general purpose, then it'll need to get inputs from outside of itself. How can we do that?\n",
    "\n",
    "1. We can get input from the user, with `input`. The user's input will be used to set variables, and then we can use the variables to make decisions and report to the user.\n",
    "2. We can get input from whosever calls our function. This means that whoever calls it needs to provide arguments, which will be assigned to our parameters.\n",
    "3. We can get input from an external source -- from a file, a database, or the network.\n"
   ]
  },
  {
   "cell_type": "code",
   "execution_count": 45,
   "metadata": {},
   "outputs": [],
   "source": [
    "def calc():\n",
    "    first = input('Enter first number: ').strip()\n",
    "    op = input('Enter operator: ').strip()\n",
    "    second = input('Enter second number: ').strip()\n",
    "\n",
    "    first = int(first)\n",
    "    second = int(second)\n",
    "\n",
    "    if op == '+':\n",
    "        result = first + second\n",
    "    elif op == '*':\n",
    "        result = first * second\n",
    "    else:\n",
    "        result = f'Unknown operator {op}'\n",
    "\n",
    "    print(f'{first} {op} {second} = {result}') "
   ]
  },
  {
   "cell_type": "code",
   "execution_count": 46,
   "metadata": {},
   "outputs": [
    {
     "name": "stdin",
     "output_type": "stream",
     "text": [
      "Enter first number:  10\n",
      "Enter operator:  +\n",
      "Enter second number:  3\n"
     ]
    },
    {
     "name": "stdout",
     "output_type": "stream",
     "text": [
      "10 + 3 = 13\n"
     ]
    }
   ],
   "source": [
    "calc()"
   ]
  },
  {
   "cell_type": "markdown",
   "metadata": {},
   "source": [
    "# Exercise: Character counter\n",
    "\n",
    "1. Define a function, `count_chars`, which takes a single argument, a string.\n",
    "2. The function will (inside) create an empty dict (`counts`)\n",
    "3. It goes through each character in the string.\n",
    "    - If the character is a key in `counts`, then add 1 to its value\n",
    "    - If it's not already there, then add the key (the current character) and the value 1.\n",
    "4. Print the dict at the end of the function.\n",
    "5. After defining the function, run it with several different strings.\n",
    "\n",
    "Example:\n",
    "\n",
    "    count_chars('hello')\n",
    "    {'h':1, 'e':1, 'l':2, 'o':1}"
   ]
  },
  {
   "cell_type": "code",
   "execution_count": 47,
   "metadata": {},
   "outputs": [],
   "source": [
    "def count_chars(text):\n",
    "    counts = {}\n",
    "\n",
    "    for one_character in text:\n",
    "        if one_character in counts:     # have we seen this before?\n",
    "            counts[one_character] += 1  #     increment the count by 1\n",
    "        else:\n",
    "            counts[one_character] = 1   # add the key-value pair\n",
    "\n",
    "    print(counts)"
   ]
  },
  {
   "cell_type": "code",
   "execution_count": 48,
   "metadata": {},
   "outputs": [
    {
     "name": "stdout",
     "output_type": "stream",
     "text": [
      "{'h': 1, 'e': 1, 'l': 2, 'o': 1}\n"
     ]
    }
   ],
   "source": [
    "count_chars('hello')    # here, we call the function with a positional argument"
   ]
  },
  {
   "cell_type": "code",
   "execution_count": 49,
   "metadata": {},
   "outputs": [
    {
     "name": "stdout",
     "output_type": "stream",
     "text": [
      "{'h': 1, 'e': 1, 'l': 2, 'o': 1}\n"
     ]
    }
   ],
   "source": [
    "count_chars(text='hello')    # here, we call the function with a keyword argument"
   ]
  },
  {
   "cell_type": "markdown",
   "metadata": {},
   "source": [
    "# Return values\n",
    "\n",
    "Every function in Python returns a value. That means: If we put the function call inside of `print` or on the right side of assignment, there's a value that will be printed/assigned.\n",
    "\n",
    "There is a big difference between a function printing a value and returning a value. A function can print as much (or as little) as it wants, whenever it wants. But it can only return one value, and that's as it's finishing up. A return value is the last hurrah of a function.\n",
    "\n",
    "The way that we return a value in Python is with the `return` keyword. All we have to do is say `return VALUE`, where `VALUE` is anything we want, any Python object at all.\n",
    "\n",
    "If we print from a function, then only if someone is looking at the output on the screen will it be visible. But if we return a value, then another function/part of the program can capture that value and do something with it.\n",
    "\n",
    "You get far more flexibility returning values than printing them. Use `print` for debugging in a function. but it's best to return a value."
   ]
  },
  {
   "cell_type": "code",
   "execution_count": 50,
   "metadata": {},
   "outputs": [],
   "source": [
    "def hello(name):\n",
    "    return f'Hello, {name}!'"
   ]
  },
  {
   "cell_type": "code",
   "execution_count": 51,
   "metadata": {},
   "outputs": [
    {
     "data": {
      "text/plain": [
       "'Hello, Reuven!'"
      ]
     },
     "execution_count": 51,
     "metadata": {},
     "output_type": "execute_result"
    }
   ],
   "source": [
    "hello('Reuven')     # here, we'll showing the return value with the object's \"printed representation\" including quotes"
   ]
  },
  {
   "cell_type": "code",
   "execution_count": 53,
   "metadata": {},
   "outputs": [
    {
     "name": "stdout",
     "output_type": "stream",
     "text": [
      "Hello, Reuven!\n"
     ]
    }
   ],
   "source": [
    "print(hello('Reuven'))  # here, we're showing the users some output"
   ]
  },
  {
   "cell_type": "code",
   "execution_count": 54,
   "metadata": {},
   "outputs": [
    {
     "name": "stdout",
     "output_type": "stream",
     "text": [
      "Hello, Reuven!\n"
     ]
    }
   ],
   "source": [
    "output = hello('Reuven')\n",
    "print(output)"
   ]
  },
  {
   "cell_type": "code",
   "execution_count": 55,
   "metadata": {},
   "outputs": [
    {
     "name": "stdout",
     "output_type": "stream",
     "text": [
      "Hello, Reuven!\n",
      "None\n"
     ]
    }
   ],
   "source": [
    "output = print(hello('Reuven'))  # the print function doesn't return what it displays. Rather, it returns None\n",
    "print(output)"
   ]
  },
  {
   "cell_type": "markdown",
   "metadata": {},
   "source": [
    "# Exercise: Calculator returns\n",
    "\n",
    "1. Modify `calc` such that it returns the string with the output we previously printed.\n",
    "2. Use a `for` loop to invoke `calc` at least 5 times with different numbers and operators. Number and print the result of each invocation of `calc`."
   ]
  },
  {
   "cell_type": "code",
   "execution_count": 56,
   "metadata": {},
   "outputs": [
    {
     "data": {
      "text/plain": [
       "'10 + 3 = 13'"
      ]
     },
     "execution_count": 56,
     "metadata": {},
     "output_type": "execute_result"
    }
   ],
   "source": [
    "def calc(first, operand, second):\n",
    "\n",
    "    if operand == '+':\n",
    "        result = first + second\n",
    "    elif operand == '*':\n",
    "        result = first * second\n",
    "    else:\n",
    "        result = f'unknown operator {operand}'\n",
    "\n",
    "    return f'{first} {operand} {second} = {result}'\n",
    "\n",
    "calc(10, '+', 3)\n"
   ]
  },
  {
   "cell_type": "code",
   "execution_count": 57,
   "metadata": {},
   "outputs": [
    {
     "name": "stdout",
     "output_type": "stream",
     "text": [
      "0 + 0 = 0\n",
      "0 * 0 = 0\n",
      "1 + 1 = 2\n",
      "1 * 1 = 1\n",
      "2 + 4 = 6\n",
      "2 * 4 = 8\n",
      "3 + 9 = 12\n",
      "3 * 9 = 27\n"
     ]
    }
   ],
   "source": [
    "for one_number in range(4):\n",
    "    print(calc(one_number, '+', one_number**2))\n",
    "    print(calc(one_number, '*', one_number**2))    "
   ]
  },
  {
   "cell_type": "code",
   "execution_count": 58,
   "metadata": {},
   "outputs": [],
   "source": [
    "# we can store the results in a dict!\n",
    "# the key will be the number and the value will be the result from invoking calc\n",
    "results = {}\n",
    "\n",
    "for one_number in range(10):\n",
    "    results[one_number] = calc(one_number, '+', one_number**2)"
   ]
  },
  {
   "cell_type": "code",
   "execution_count": 59,
   "metadata": {},
   "outputs": [
    {
     "data": {
      "text/plain": [
       "{0: '0 + 0 = 0',\n",
       " 1: '1 + 1 = 2',\n",
       " 2: '2 + 4 = 6',\n",
       " 3: '3 + 9 = 12',\n",
       " 4: '4 + 16 = 20',\n",
       " 5: '5 + 25 = 30',\n",
       " 6: '6 + 36 = 42',\n",
       " 7: '7 + 49 = 56',\n",
       " 8: '8 + 64 = 72',\n",
       " 9: '9 + 81 = 90'}"
      ]
     },
     "execution_count": 59,
     "metadata": {},
     "output_type": "execute_result"
    }
   ],
   "source": [
    "results"
   ]
  },
  {
   "cell_type": "markdown",
   "metadata": {},
   "source": [
    "# The most recent version of a function exists\n",
    "\n",
    "People commonly believe that if they define a version of a function with 0 parameters, with 1 parameter, and with 2 parameters, that Python will figure out which of these should be invoked, and activate that one. This is not true!"
   ]
  },
  {
   "cell_type": "code",
   "execution_count": 60,
   "metadata": {},
   "outputs": [],
   "source": [
    "def hello():\n",
    "    return f'Hello!'\n",
    "\n",
    "def hello(name):    # after defining this function, the function from line 1 is GONE\n",
    "    return f'Hello, {name}!'\n",
    "\n",
    "def hello(first, last):  # after defining this function, the function from line 4 is GONE\n",
    "    return f'Hello, {first} {last}'"
   ]
  },
  {
   "cell_type": "code",
   "execution_count": 61,
   "metadata": {},
   "outputs": [
    {
     "ename": "TypeError",
     "evalue": "hello() missing 1 required positional argument: 'last'",
     "output_type": "error",
     "traceback": [
      "\u001b[0;31m---------------------------------------------------------------------------\u001b[0m",
      "\u001b[0;31mTypeError\u001b[0m                                 Traceback (most recent call last)",
      "Cell \u001b[0;32mIn[61], line 1\u001b[0m\n\u001b[0;32m----> 1\u001b[0m \u001b[43mhello\u001b[49m\u001b[43m(\u001b[49m\u001b[38;5;124;43m'\u001b[39;49m\u001b[38;5;124;43mworld\u001b[39;49m\u001b[38;5;124;43m'\u001b[39;49m\u001b[43m)\u001b[49m\n",
      "\u001b[0;31mTypeError\u001b[0m: hello() missing 1 required positional argument: 'last'"
     ]
    }
   ],
   "source": [
    "hello('world')"
   ]
  },
  {
   "cell_type": "markdown",
   "metadata": {},
   "source": [
    "# Exercise: Text stats\n",
    "\n",
    "1. Write a function, `stats`, that takes a text string as an argument. The return value will be a dict whose keys are `len` and `vowel_count`. These stats will be the number of characters and the number of vowels.\n",
    "2. Ask the user to enter a sentence.\n",
    "3. For each word in the sentence, invoke `stats` once. Put the returned dict in a list, such that we'll have a list of dicts.\n",
    "4. When you're done going over the sentence, iterate over the list of dicts and print each one."
   ]
  },
  {
   "cell_type": "code",
   "execution_count": 62,
   "metadata": {},
   "outputs": [
    {
     "data": {
      "text/plain": [
       "{'len': 15, 'vowel_count': 6}"
      ]
     },
     "execution_count": 62,
     "metadata": {},
     "output_type": "execute_result"
    }
   ],
   "source": [
    "def stats(text):\n",
    "    vowel_count = 0\n",
    "\n",
    "    for one_character in text:\n",
    "        if one_character in 'aeiou':\n",
    "            vowel_count += 1\n",
    "\n",
    "    return {'len':len(text),\n",
    "           'vowel_count':vowel_count}\n",
    "\n",
    "stats('hello out there')"
   ]
  },
  {
   "cell_type": "code",
   "execution_count": 64,
   "metadata": {},
   "outputs": [
    {
     "name": "stdin",
     "output_type": "stream",
     "text": [
      "Enter a sentence:  hello out there\n"
     ]
    },
    {
     "name": "stdout",
     "output_type": "stream",
     "text": [
      "[{'len': 5, 'vowel_count': 2}, {'len': 3, 'vowel_count': 2}, {'len': 5, 'vowel_count': 2}]\n"
     ]
    }
   ],
   "source": [
    "all_stats = []\n",
    "\n",
    "sentence = input('Enter a sentence: ').strip()\n",
    "\n",
    "for one_word in sentence.split():       # go through each word in the sentence\n",
    "    all_stats.append(stats(one_word))   # take the stats we get (as a dict) and append to the \"all_stats\" list\n",
    "\n",
    "print(all_stats)"
   ]
  },
  {
   "cell_type": "markdown",
   "metadata": {},
   "source": [
    "# Next up:\n",
    "\n",
    "1. Default argument values\n",
    "2. Complex return values and unpacking"
   ]
  },
  {
   "cell_type": "markdown",
   "metadata": {},
   "source": [
    "We've seen that some functions (e.g., `str.split`) can be invoked with an argument, but can also be invoked without an argument. How is this possible? \n",
    "\n",
    "So far, from what we've seen, we can write a function that takes zero, one, two, or more arguments. But they're all mandatory.\n",
    "\n",
    "It turns out that we can define a parameter and give it a default argument value. That is: If we pass an argument, then the parameter gets assigned that argument value. But if we don't pass the argument, then the default is assigned.\n",
    "\n",
    "The basic idea is that a parameter is defined in the function definition with `=` and the default value we want to give it."
   ]
  },
  {
   "cell_type": "code",
   "execution_count": 65,
   "metadata": {},
   "outputs": [
    {
     "data": {
      "text/plain": [
       "13"
      ]
     },
     "execution_count": 65,
     "metadata": {},
     "output_type": "execute_result"
    }
   ],
   "source": [
    "def add(first, second):\n",
    "    return first + second\n",
    "\n",
    "add(10, 3)"
   ]
  },
  {
   "cell_type": "code",
   "execution_count": 66,
   "metadata": {},
   "outputs": [
    {
     "data": {
      "text/plain": [
       "29"
      ]
     },
     "execution_count": 66,
     "metadata": {},
     "output_type": "execute_result"
    }
   ],
   "source": [
    "add(20, 9)"
   ]
  },
  {
   "cell_type": "code",
   "execution_count": 67,
   "metadata": {},
   "outputs": [
    {
     "ename": "TypeError",
     "evalue": "add() missing 1 required positional argument: 'second'",
     "output_type": "error",
     "traceback": [
      "\u001b[0;31m---------------------------------------------------------------------------\u001b[0m",
      "\u001b[0;31mTypeError\u001b[0m                                 Traceback (most recent call last)",
      "Cell \u001b[0;32mIn[67], line 1\u001b[0m\n\u001b[0;32m----> 1\u001b[0m \u001b[43madd\u001b[49m\u001b[43m(\u001b[49m\u001b[38;5;241;43m10\u001b[39;49m\u001b[43m)\u001b[49m\n",
      "\u001b[0;31mTypeError\u001b[0m: add() missing 1 required positional argument: 'second'"
     ]
    }
   ],
   "source": [
    "add(10)"
   ]
  },
  {
   "cell_type": "code",
   "execution_count": 68,
   "metadata": {},
   "outputs": [],
   "source": [
    "# make second optional by giving it a default argument value\n",
    "\n",
    "def add(first, second=3):   # now, second has a default of 3\n",
    "    return first + second\n"
   ]
  },
  {
   "cell_type": "code",
   "execution_count": 69,
   "metadata": {},
   "outputs": [
    {
     "data": {
      "text/plain": [
       "19"
      ]
     },
     "execution_count": 69,
     "metadata": {},
     "output_type": "execute_result"
    }
   ],
   "source": [
    "# parameters:   first    second\n",
    "# arguments:     10        9\n",
    "\n",
    "add(10, 9)"
   ]
  },
  {
   "cell_type": "code",
   "execution_count": 70,
   "metadata": {},
   "outputs": [
    {
     "data": {
      "text/plain": [
       "13"
      ]
     },
     "execution_count": 70,
     "metadata": {},
     "output_type": "execute_result"
    }
   ],
   "source": [
    "# parameters:   first    second\n",
    "# arguments:     10        3 \n",
    "\n",
    "add(10)"
   ]
  },
  {
   "cell_type": "markdown",
   "metadata": {},
   "source": [
    "# Rules for default argument values\n",
    "\n",
    "1. All mandatory parameters (i.e., without defaults) must come before any with defaults.\n",
    "2. Don't use mutable data (e.g., lists and dicts) as default values. It will not end well."
   ]
  },
  {
   "cell_type": "markdown",
   "metadata": {},
   "source": [
    "# Exercise: Count characters (in a file)\n",
    "\n",
    "1. Define a function, `count_chars`, which takes two arguments:\n",
    "    - `filename`, the name of a (text) file to read and analyze\n",
    "    - `to_count`, an optional string. If we pass this string, this lists the characters we want to count. If we don't, then we count the vowels, `aeiou`.\n",
    "2. `count_chars` should return the dict of counted characters. The keys should be the characters from `to_count`, and the values will be the number of times each of them appers in the file.\n",
    "3. Invoke the function, passing the name of a text file alone. Try again, passing an explicit `to_count` string."
   ]
  },
  {
   "cell_type": "code",
   "execution_count": 71,
   "metadata": {},
   "outputs": [],
   "source": [
    "def count_chars(filename, to_count='aeiou'):\n",
    "    # set up the counts dict\n",
    "    counts = {}\n",
    "    for one_character in to_count:\n",
    "        counts[one_character] = 0\n",
    "\n",
    "    # go through the file\n",
    "    for one_line in open(filename):             # go through each line \n",
    "        for one_character in one_line:          #    go through each character on the current line\n",
    "            if one_character in counts:         # if the current character is a key in \"counts\"\n",
    "                counts[one_character] += 1      # increment its count by 1\n",
    "\n",
    "    return counts\n",
    "\n"
   ]
  },
  {
   "cell_type": "code",
   "execution_count": 72,
   "metadata": {},
   "outputs": [
    {
     "data": {
      "text/plain": [
       "{'a': 546, 'e': 701, 'i': 387, 'o': 277, 'u': 206}"
      ]
     },
     "execution_count": 72,
     "metadata": {},
     "output_type": "execute_result"
    }
   ],
   "source": [
    "count_chars('/etc/passwd')"
   ]
  },
  {
   "cell_type": "code",
   "execution_count": 73,
   "metadata": {},
   "outputs": [
    {
     "data": {
      "text/plain": [
       "{'a': 546, 'b': 217, 'c': 150, 'd': 214, 'e': 701}"
      ]
     },
     "execution_count": 73,
     "metadata": {},
     "output_type": "execute_result"
    }
   ],
   "source": [
    "count_chars('/etc/passwd', 'abcde')"
   ]
  },
  {
   "cell_type": "markdown",
   "metadata": {},
   "source": [
    "# Returning complex values\n",
    "\n",
    "We've seen that we can return *any* Python value we want from a function:\n",
    "\n",
    "- int or float\n",
    "- string\n",
    "- list or tuples\n",
    "- dict\n",
    "\n",
    "Can I return more than one thing?\n",
    "\n",
    "- No, you can only return one thing\n",
    "- Yes, you can return a tuple containing more than one thing\n"
   ]
  },
  {
   "cell_type": "code",
   "execution_count": 74,
   "metadata": {},
   "outputs": [],
   "source": [
    "def math_ops(first, second):\n",
    "    return first+second, first-second, first*second, first/second"
   ]
  },
  {
   "cell_type": "code",
   "execution_count": 77,
   "metadata": {},
   "outputs": [
    {
     "data": {
      "text/plain": [
       "(14, 6, 40, 2.5)"
      ]
     },
     "execution_count": 77,
     "metadata": {},
     "output_type": "execute_result"
    }
   ],
   "source": [
    "math_ops(10, 4)"
   ]
  },
  {
   "cell_type": "code",
   "execution_count": 78,
   "metadata": {},
   "outputs": [],
   "source": [
    "# we can use unpacking to get this tuple, and turn its elements into four variables\n",
    "\n",
    "add, sub, mul, div = math_ops(10, 4)"
   ]
  },
  {
   "cell_type": "code",
   "execution_count": 79,
   "metadata": {},
   "outputs": [
    {
     "data": {
      "text/plain": [
       "14"
      ]
     },
     "execution_count": 79,
     "metadata": {},
     "output_type": "execute_result"
    }
   ],
   "source": [
    "add"
   ]
  },
  {
   "cell_type": "code",
   "execution_count": 80,
   "metadata": {},
   "outputs": [
    {
     "data": {
      "text/plain": [
       "6"
      ]
     },
     "execution_count": 80,
     "metadata": {},
     "output_type": "execute_result"
    }
   ],
   "source": [
    "sub"
   ]
  },
  {
   "cell_type": "markdown",
   "metadata": {},
   "source": [
    "# Exercise: Odds and evens\n",
    "\n",
    "1. Write a function that takes a list of integers as an argument.\n",
    "2. The function should return a tuple of two lists. The first will contain all of the odd numbers from the input numbers, and the second will contain all of the even numbers from the input numbers.\n",
    "\n",
    "Example:\n",
    "\n",
    "    odds_and_evens([10, 15, 20, 25])\n",
    "    ([15, 25], [10, 20])"
   ]
  },
  {
   "cell_type": "code",
   "execution_count": 81,
   "metadata": {},
   "outputs": [],
   "source": [
    "def odds_and_evens(numbers):\n",
    "    odds = []\n",
    "    evens = []\n",
    "\n",
    "    for one_number in numbers:\n",
    "        if one_number % 2 == 1:\n",
    "            odds.append(one_number)\n",
    "        else:\n",
    "            evens.append(one_number)\n",
    "\n",
    "    return odds, evens"
   ]
  },
  {
   "cell_type": "code",
   "execution_count": 82,
   "metadata": {},
   "outputs": [
    {
     "data": {
      "text/plain": [
       "([15, 25], [10, 20])"
      ]
     },
     "execution_count": 82,
     "metadata": {},
     "output_type": "execute_result"
    }
   ],
   "source": [
    "odds_and_evens([10, 15, 20, 25])"
   ]
  },
  {
   "cell_type": "code",
   "execution_count": 83,
   "metadata": {},
   "outputs": [],
   "source": [
    "the_odds, the_evens = odds_and_evens([10, 15, 20, 25])"
   ]
  },
  {
   "cell_type": "code",
   "execution_count": 84,
   "metadata": {},
   "outputs": [
    {
     "data": {
      "text/plain": [
       "[15, 25]"
      ]
     },
     "execution_count": 84,
     "metadata": {},
     "output_type": "execute_result"
    }
   ],
   "source": [
    "the_odds "
   ]
  },
  {
   "cell_type": "code",
   "execution_count": 85,
   "metadata": {},
   "outputs": [
    {
     "data": {
      "text/plain": [
       "[10, 20]"
      ]
     },
     "execution_count": 85,
     "metadata": {},
     "output_type": "execute_result"
    }
   ],
   "source": [
    "the_evens"
   ]
  },
  {
   "cell_type": "markdown",
   "metadata": {},
   "source": [
    "# Next up\n",
    "\n",
    "1. The special `*args` parameter\n",
    "2. Local vs. global variables"
   ]
  },
  {
   "cell_type": "markdown",
   "metadata": {},
   "source": [
    "Let's say that I want to write a function that takes a list of numbers and returns their sum. (Yes, there is a builtin `sum` function, but we don't want to use it.)\n",
    "\n"
   ]
  },
  {
   "cell_type": "code",
   "execution_count": 86,
   "metadata": {},
   "outputs": [],
   "source": [
    "def mysum(numbers):\n",
    "    total = 0\n",
    "\n",
    "    for one_number in numbers:\n",
    "        total += one_number\n",
    "\n",
    "    return total"
   ]
  },
  {
   "cell_type": "code",
   "execution_count": 87,
   "metadata": {},
   "outputs": [
    {
     "data": {
      "text/plain": [
       "150"
      ]
     },
     "execution_count": 87,
     "metadata": {},
     "output_type": "execute_result"
    }
   ],
   "source": [
    "mysum([10, 20, 30, 40, 50])"
   ]
  },
  {
   "cell_type": "code",
   "execution_count": 88,
   "metadata": {},
   "outputs": [
    {
     "data": {
      "text/plain": [
       "14"
      ]
     },
     "execution_count": 88,
     "metadata": {},
     "output_type": "execute_result"
    }
   ],
   "source": [
    "mysum([2,3,4,5])"
   ]
  },
  {
   "cell_type": "markdown",
   "metadata": {},
   "source": [
    "This is a great function, but it's kind of annoying that I have to pass a list. In some ways, it would be nicer and easier to pass a bunch of arguments without the `[]`."
   ]
  },
  {
   "cell_type": "code",
   "execution_count": 89,
   "metadata": {},
   "outputs": [
    {
     "ename": "TypeError",
     "evalue": "mysum() takes 1 positional argument but 4 were given",
     "output_type": "error",
     "traceback": [
      "\u001b[0;31m---------------------------------------------------------------------------\u001b[0m",
      "\u001b[0;31mTypeError\u001b[0m                                 Traceback (most recent call last)",
      "Cell \u001b[0;32mIn[89], line 1\u001b[0m\n\u001b[0;32m----> 1\u001b[0m \u001b[43mmysum\u001b[49m\u001b[43m(\u001b[49m\u001b[38;5;241;43m2\u001b[39;49m\u001b[43m,\u001b[49m\u001b[38;5;241;43m3\u001b[39;49m\u001b[43m,\u001b[49m\u001b[38;5;241;43m4\u001b[39;49m\u001b[43m,\u001b[49m\u001b[38;5;241;43m5\u001b[39;49m\u001b[43m)\u001b[49m   \u001b[38;5;66;03m# let's call the function with 4 arguments!\u001b[39;00m\n",
      "\u001b[0;31mTypeError\u001b[0m: mysum() takes 1 positional argument but 4 were given"
     ]
    }
   ],
   "source": [
    "mysum(2,3,4,5)   # let's call the function with 4 arguments!"
   ]
  },
  {
   "cell_type": "code",
   "execution_count": 90,
   "metadata": {},
   "outputs": [
    {
     "ename": "TypeError",
     "evalue": "mysum() takes 1 positional argument but 8 were given",
     "output_type": "error",
     "traceback": [
      "\u001b[0;31m---------------------------------------------------------------------------\u001b[0m",
      "\u001b[0;31mTypeError\u001b[0m                                 Traceback (most recent call last)",
      "Cell \u001b[0;32mIn[90], line 1\u001b[0m\n\u001b[0;32m----> 1\u001b[0m \u001b[43mmysum\u001b[49m\u001b[43m(\u001b[49m\u001b[38;5;241;43m2\u001b[39;49m\u001b[43m,\u001b[49m\u001b[38;5;241;43m3\u001b[39;49m\u001b[43m,\u001b[49m\u001b[38;5;241;43m4\u001b[39;49m\u001b[43m,\u001b[49m\u001b[38;5;241;43m5\u001b[39;49m\u001b[43m,\u001b[49m\u001b[38;5;241;43m6\u001b[39;49m\u001b[43m,\u001b[49m\u001b[38;5;241;43m7\u001b[39;49m\u001b[43m,\u001b[49m\u001b[38;5;241;43m8\u001b[39;49m\u001b[43m,\u001b[49m\u001b[38;5;241;43m9\u001b[39;49m\u001b[43m)\u001b[49m\n",
      "\u001b[0;31mTypeError\u001b[0m: mysum() takes 1 positional argument but 8 were given"
     ]
    }
   ],
   "source": [
    "mysum(2,3,4,5,6,7,8,9)"
   ]
  },
  {
   "cell_type": "code",
   "execution_count": 91,
   "metadata": {},
   "outputs": [],
   "source": [
    "# let's rewrite the function such that it takes a bunch of arguments, with\n",
    "# parameters whose default value is 0!\n",
    "\n",
    "def mysum(a=0, b=0, c=0, d=0, e=0, f=0, g=0):\n",
    "    return a + b + c + d + e + f + g"
   ]
  },
  {
   "cell_type": "code",
   "execution_count": 92,
   "metadata": {},
   "outputs": [
    {
     "data": {
      "text/plain": [
       "20"
      ]
     },
     "execution_count": 92,
     "metadata": {},
     "output_type": "execute_result"
    }
   ],
   "source": [
    "mysum(2,3,4,5,6)"
   ]
  },
  {
   "cell_type": "code",
   "execution_count": 93,
   "metadata": {},
   "outputs": [
    {
     "data": {
      "text/plain": [
       "9"
      ]
     },
     "execution_count": 93,
     "metadata": {},
     "output_type": "execute_result"
    }
   ],
   "source": [
    "mysum(2,3,4)"
   ]
  },
  {
   "cell_type": "code",
   "execution_count": 94,
   "metadata": {},
   "outputs": [
    {
     "ename": "TypeError",
     "evalue": "mysum() takes from 0 to 7 positional arguments but 10 were given",
     "output_type": "error",
     "traceback": [
      "\u001b[0;31m---------------------------------------------------------------------------\u001b[0m",
      "\u001b[0;31mTypeError\u001b[0m                                 Traceback (most recent call last)",
      "Cell \u001b[0;32mIn[94], line 1\u001b[0m\n\u001b[0;32m----> 1\u001b[0m \u001b[43mmysum\u001b[49m\u001b[43m(\u001b[49m\u001b[38;5;241;43m10\u001b[39;49m\u001b[43m,\u001b[49m\u001b[43m \u001b[49m\u001b[38;5;241;43m20\u001b[39;49m\u001b[43m,\u001b[49m\u001b[43m \u001b[49m\u001b[38;5;241;43m30\u001b[39;49m\u001b[43m,\u001b[49m\u001b[43m \u001b[49m\u001b[38;5;241;43m40\u001b[39;49m\u001b[43m,\u001b[49m\u001b[43m \u001b[49m\u001b[38;5;241;43m50\u001b[39;49m\u001b[43m,\u001b[49m\u001b[43m \u001b[49m\u001b[38;5;241;43m60\u001b[39;49m\u001b[43m,\u001b[49m\u001b[43m \u001b[49m\u001b[38;5;241;43m70\u001b[39;49m\u001b[43m,\u001b[49m\u001b[43m \u001b[49m\u001b[38;5;241;43m80\u001b[39;49m\u001b[43m,\u001b[49m\u001b[43m \u001b[49m\u001b[38;5;241;43m90\u001b[39;49m\u001b[43m,\u001b[49m\u001b[43m \u001b[49m\u001b[38;5;241;43m100\u001b[39;49m\u001b[43m)\u001b[49m\n",
      "\u001b[0;31mTypeError\u001b[0m: mysum() takes from 0 to 7 positional arguments but 10 were given"
     ]
    }
   ],
   "source": [
    "mysum(10, 20, 30, 40, 50, 60, 70, 80, 90, 100)"
   ]
  },
  {
   "cell_type": "markdown",
   "metadata": {},
   "source": [
    "What do we really want?\n",
    "\n",
    "We want to accept any number of positional arguments. Python provides us with a special facility to do that, known as `*args`:\n",
    "\n",
    "- We pronounce it \"splat-args,\" because the `*` looks like a bug that was squished\n",
    "- If we have such a parameter, it's the final one in our function's parameter list\n",
    "- You can use any name you want, but `args` is pretty traditional, and the documentation all mentions it\n",
    "- `args` will be a tuple containing all of the positional arguments that no other parameter absorbed -- `*args` is the final parameter, not the only one"
   ]
  },
  {
   "cell_type": "code",
   "execution_count": 95,
   "metadata": {},
   "outputs": [],
   "source": [
    "# redefine the function\n",
    "\n",
    "def mysum(*args):   # this means: (a) args is a tuple and (b) its elements are *all* of the positional arguments\n",
    "    total = 0\n",
    "\n",
    "    for one_number in args:    # we don't say *args here -- that's just in the function definition\n",
    "        total += one_number\n",
    "\n",
    "    return total"
   ]
  },
  {
   "cell_type": "code",
   "execution_count": 96,
   "metadata": {},
   "outputs": [
    {
     "data": {
      "text/plain": [
       "150"
      ]
     },
     "execution_count": 96,
     "metadata": {},
     "output_type": "execute_result"
    }
   ],
   "source": [
    "mysum(10, 20, 30, 40, 50)"
   ]
  },
  {
   "cell_type": "code",
   "execution_count": 97,
   "metadata": {},
   "outputs": [
    {
     "ename": "TypeError",
     "evalue": "unsupported operand type(s) for +=: 'int' and 'list'",
     "output_type": "error",
     "traceback": [
      "\u001b[0;31m---------------------------------------------------------------------------\u001b[0m",
      "\u001b[0;31mTypeError\u001b[0m                                 Traceback (most recent call last)",
      "Cell \u001b[0;32mIn[97], line 1\u001b[0m\n\u001b[0;32m----> 1\u001b[0m \u001b[43mmysum\u001b[49m\u001b[43m(\u001b[49m\u001b[43m[\u001b[49m\u001b[38;5;241;43m10\u001b[39;49m\u001b[43m,\u001b[49m\u001b[43m \u001b[49m\u001b[38;5;241;43m20\u001b[39;49m\u001b[43m,\u001b[49m\u001b[43m \u001b[49m\u001b[38;5;241;43m30\u001b[39;49m\u001b[43m,\u001b[49m\u001b[43m \u001b[49m\u001b[38;5;241;43m40\u001b[39;49m\u001b[43m,\u001b[49m\u001b[43m \u001b[49m\u001b[38;5;241;43m50\u001b[39;49m\u001b[43m]\u001b[49m\u001b[43m)\u001b[49m   \u001b[38;5;66;03m# what happens now?\u001b[39;00m\n",
      "Cell \u001b[0;32mIn[95], line 7\u001b[0m, in \u001b[0;36mmysum\u001b[0;34m(*args)\u001b[0m\n\u001b[1;32m      4\u001b[0m total \u001b[38;5;241m=\u001b[39m \u001b[38;5;241m0\u001b[39m\n\u001b[1;32m      6\u001b[0m \u001b[38;5;28;01mfor\u001b[39;00m one_number \u001b[38;5;129;01min\u001b[39;00m args:    \u001b[38;5;66;03m# we don't say *args here -- that's just in the function definition\u001b[39;00m\n\u001b[0;32m----> 7\u001b[0m     \u001b[43mtotal\u001b[49m\u001b[43m \u001b[49m\u001b[38;5;241;43m+\u001b[39;49m\u001b[38;5;241;43m=\u001b[39;49m\u001b[43m \u001b[49m\u001b[43mone_number\u001b[49m\n\u001b[1;32m      9\u001b[0m \u001b[38;5;28;01mreturn\u001b[39;00m total\n",
      "\u001b[0;31mTypeError\u001b[0m: unsupported operand type(s) for +=: 'int' and 'list'"
     ]
    }
   ],
   "source": [
    "mysum([10, 20, 30, 40, 50])   # what happens now?"
   ]
  },
  {
   "cell_type": "markdown",
   "metadata": {},
   "source": [
    "It's pretty common for functions to have `*args` as a parameter in the function. It's especially common if you don't know how many arguments you'll get, but you do know what you want to do with them when you get them."
   ]
  },
  {
   "cell_type": "markdown",
   "metadata": {},
   "source": [
    "# Exercise: Highest and lowest\n",
    "\n",
    "1. Define a function, `highest_and_lowest`, that takes any number of positional arguments, all of which should be integers.\n",
    "2. It should return a two-element tuple with the highest and lowest elements from the input arguments.\n",
    "\n",
    "Example:\n",
    "\n",
    "    highest_and_lowest(10, 30, 50, 20, 8, 14)\n",
    "    (50, 8)"
   ]
  },
  {
   "cell_type": "markdown",
   "metadata": {},
   "source": [
    "How do we do this?\n",
    "\n",
    "- Define `highest` to be `numbers[0]`, the first element of what we got in `*args`\n",
    "- Define `highest` to be `numbers[0]`, the first element of what we got in `*args`\n",
    "- "
   ]
  }
 ],
 "metadata": {
  "kernelspec": {
   "display_name": "Python 3 (ipykernel)",
   "language": "python",
   "name": "python3"
  },
  "language_info": {
   "codemirror_mode": {
    "name": "ipython",
    "version": 3
   },
   "file_extension": ".py",
   "mimetype": "text/x-python",
   "name": "python",
   "nbconvert_exporter": "python",
   "pygments_lexer": "ipython3",
   "version": "3.13.0"
  }
 },
 "nbformat": 4,
 "nbformat_minor": 4
}
